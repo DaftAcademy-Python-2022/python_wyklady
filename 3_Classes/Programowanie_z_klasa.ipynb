{
 "cells": [
  {
   "cell_type": "markdown",
   "metadata": {
    "slideshow": {
     "slide_type": "slide"
    }
   },
   "source": [
    "# Programowanie z klasą\n",
    "## Jan Warchoł\n",
    "### 24.XI.2022"
   ]
  },
  {
   "cell_type": "markdown",
   "metadata": {
    "slideshow": {
     "slide_type": "slide"
    }
   },
   "source": [
    "## 1. Po co komu klasy?"
   ]
  },
  {
   "cell_type": "markdown",
   "metadata": {
    "slideshow": {
     "slide_type": "subslide"
    }
   },
   "source": [
    "### A long, long time ago in the Milky Way Galaxy\n",
    "Nie było klas.  \n",
    "Programy składały się z danych (zmienne, tablice, struktury) i z funkcji.  \n",
    "Tworzenie rozbudowanych programów okazało się trudne.  \n",
    "Ciężko było utrzymać reżim podziału na dane i funkcje je obrabiające.  \n",
    "Bardzo łatwo było użyć nieodpowiedniej funkcji do danych.  "
   ]
  },
  {
   "cell_type": "markdown",
   "metadata": {
    "slideshow": {
     "slide_type": "subslide"
    }
   },
   "source": [
    "### Back to the future\n",
    "Jednym z pomysłów na problem programów/projektów uginających sie pod swym rozmiarem było coś co zostało nazwane Programowaniem Zorientowanym Obiektowo.  \n",
    "Po ang. Object Oriented Programming (**OOP**)."
   ]
  },
  {
   "cell_type": "markdown",
   "metadata": {
    "slideshow": {
     "slide_type": "subslide"
    }
   },
   "source": [
    "### Co daje OOP\n",
    "Ogólnie podział kodu źródłowego.  \n",
    "Wprowadza przestrzenie nazw.   \n",
    "Połączenie danych i operacji w klasy.  \n",
    "Dzięki tym usprawnieniom tworzenie większych programów stało się łatwiejsze.  \n",
    "Częstotliwość użycia metody Copiego-Pasty też się zmniejszyła. (powinna)"
   ]
  },
  {
   "cell_type": "markdown",
   "metadata": {
    "slideshow": {
     "slide_type": "subslide"
    }
   },
   "source": [
    "### There is no silver bullet\n",
    "Po początkowym entuzjaźmie okazało się, że OOP nie jest łatwe!  \n",
    "Rozwiązuje część problemów.  \n",
    "Ale dokłada swoje np: dziedziczenie (wielokrotne, długie łancuchy, ...).  \n",
    "Przede wszystkim jednak wciąż **trzeba myśleć**."
   ]
  },
  {
   "cell_type": "markdown",
   "metadata": {
    "slideshow": {
     "slide_type": "slide"
    }
   },
   "source": [
    "## 2. Ogólne pojęcie klasy"
   ]
  },
  {
   "cell_type": "markdown",
   "metadata": {
    "slideshow": {
     "slide_type": "subslide"
    }
   },
   "source": [
    "Klasa to złączenie danych i funkcjonalności w jeden obiekt.  \n",
    "Klasy są \"uznawane\" za rzeczowniki.  \n",
    "Funkcje są \"uznawane\" za czasowniki.  "
   ]
  },
  {
   "cell_type": "markdown",
   "metadata": {
    "slideshow": {
     "slide_type": "subslide"
    }
   },
   "source": [
    "Stworzenie nowej klasy tworzy nowy **typ**.  \n",
    "To umożliwia tworzenie **instancji** tego typu.\n",
    "\n",
    "Klasy są definicją (\"przepisem\") sposobu w jaki instancje powninny być tworzone."
   ]
  },
  {
   "cell_type": "markdown",
   "metadata": {
    "slideshow": {
     "slide_type": "subslide"
    }
   },
   "source": [
    "Ogólne właściwości klas w pythonie:\n",
    "- metody i pola klas/instancji są **publiczne** (jak wszystko w pythonie)\n",
    "- funkcje są **wirtualne**, czyli odwołania są rozwiązywane w runtime\n",
    "- można dziedziczyć po typach wbudowanych\n",
    "- można redefiniować operatory\n",
    "- klasy są obiektami\n",
    "- instancje są obiektami"
   ]
  },
  {
   "cell_type": "markdown",
   "metadata": {
    "slideshow": {
     "slide_type": "subslide"
    }
   },
   "source": [
    "### Pytania do sali\n",
    "- Czym jest metoda?\n",
    "- Czym jest \"duck typing\"?"
   ]
  },
  {
   "cell_type": "markdown",
   "metadata": {
    "slideshow": {
     "slide_type": "subslide"
    }
   },
   "source": [
    "Więcej informacji:\n",
    "* https://docs.python.org/3/tutorial/classes.html\n",
    "* https://en.wikipedia.org/wiki/Virtual_function\n",
    "* https://en.wikipedia.org/wiki/Polymorphism_(computer_science)\n",
    "* https://en.wikipedia.org/wiki/Method_(computer_programming)\n",
    "* https://www.digitalocean.com/community/tutorials/how-to-apply-polymorphism-to-classes-in-python-3\n",
    "* https://www.python.org/download/releases/2.3/mro/"
   ]
  },
  {
   "cell_type": "markdown",
   "metadata": {
    "slideshow": {
     "slide_type": "slide"
    }
   },
   "source": [
    "## 3. Klasy"
   ]
  },
  {
   "cell_type": "markdown",
   "metadata": {
    "slideshow": {
     "slide_type": "subslide"
    }
   },
   "source": [
    "Klasa definiuje jak mają być tworzone instancje."
   ]
  },
  {
   "cell_type": "markdown",
   "metadata": {
    "slideshow": {
     "slide_type": "subslide"
    }
   },
   "source": [
    "```python\n",
    "class MyFirst():\n",
    "    pass\n",
    "```"
   ]
  },
  {
   "cell_type": "markdown",
   "metadata": {
    "slideshow": {
     "slide_type": "subslide"
    }
   },
   "source": [
    "Definicja klas są wykonywane → powstają obiekty klas (**class object**)"
   ]
  },
  {
   "cell_type": "markdown",
   "metadata": {
    "slideshow": {
     "slide_type": "subslide"
    }
   },
   "source": [
    "Na obiektach klas można wykonywać dwa typy opreacji:\n",
    "+ odwołanie do atrybutu (**attribute references**)\n",
    "+ instancjonowanie (**instantiation**)"
   ]
  },
  {
   "cell_type": "markdown",
   "metadata": {
    "slideshow": {
     "slide_type": "subslide"
    }
   },
   "source": [
    "Odwołanie do atrybutu w pythonie wygląda następująco:\n",
    "```python\n",
    "obiekt.nazwa_atrybutu\n",
    "```\n",
    "\n",
    "Atrybutem moze być dowolny obiekt (funkcja, klasa, instancja, metoda, ...)"
   ]
  },
  {
   "cell_type": "markdown",
   "metadata": {
    "slideshow": {
     "slide_type": "slide"
    }
   },
   "source": [
    "## 4. Instancje"
   ]
  },
  {
   "cell_type": "code",
   "execution_count": 1,
   "metadata": {
    "slideshow": {
     "slide_type": "subslide"
    }
   },
   "outputs": [
    {
     "name": "stdout",
     "output_type": "stream",
     "text": [
      "<class 'type'>\n",
      "<class '__main__.MyFirstClass'>\n"
     ]
    }
   ],
   "source": [
    "# tworzenie obiektu klasy\n",
    "class MyFirstClass():\n",
    "    pass\n",
    "\n",
    "print(type(MyFirstClass))\n",
    "\n",
    "# instancjonowanie\n",
    "pierwszyObiekt = MyFirstClass()\n",
    "\n",
    "print(type(pierwszyObiekt))"
   ]
  },
  {
   "cell_type": "markdown",
   "metadata": {
    "slideshow": {
     "slide_type": "subslide"
    }
   },
   "source": [
    "Instancjonowanie tworzy nowy \"pusty\" obiekt.\n",
    "Żeby instancja miała jakieś dane, używamy specjalnej metody `__init__`.\n",
    "\n",
    "`__init__` zostanie zawołane przez mechanizm tworzący nowe instancje.\n",
    "Wywołanie jest jednorazowe i następuje tylko przy tworzeniu nowych instancji.\n",
    "(Uwaga: `__init__` nie nest konstruktorem, tylko inicjalizatorem.\n",
    "Konstruktorem jest `__new__`, ale zazwyczaj `__init__` wystarcza.)"
   ]
  },
  {
   "cell_type": "code",
   "execution_count": 4,
   "metadata": {
    "slideshow": {
     "slide_type": "subslide"
    }
   },
   "outputs": [
    {
     "name": "stdout",
     "output_type": "stream",
     "text": [
      "<class 'type'>\n",
      "<class '__main__.Person'> Jan Kos\n",
      "<class '__main__.Person'> Franciszek Jeleń\n"
     ]
    }
   ],
   "source": [
    "class Person():\n",
    "    def __init__(self, name, surname):\n",
    "        self.name = name\n",
    "        self.surname = surname\n",
    "        \n",
    "print(type(Person))\n",
    "\n",
    "janek = Person('Jan', 'Kos')\n",
    "franek = Person('Franciszek', 'Jeleń')\n",
    "\n",
    "for p in (janek, franek):\n",
    "    print(type(p), p.name, p.surname)"
   ]
  },
  {
   "cell_type": "markdown",
   "metadata": {
    "slideshow": {
     "slide_type": "subslide"
    }
   },
   "source": [
    "Przy tworzeniu nowych instancji klasy `Person` podawaliśmy tylko 2 argumenty, chociaż w definicji `__init__` są 3 argumenty. Wygląda to dziwnie, ale to poprawny kod. Każda funkcja zdefiniowana wewnątrz klasy przyjmuje za pierwszy argument instancję (która zostanie przekazana automatycznie).\n",
    "\n",
    "Nazwa `self` nie jest obowiązkowa, możemy używać dowolnej, ale konwencja jest taka, że zalecane jest `self` - dla czytelności. W Pythonie konwencje są ważne."
   ]
  },
  {
   "cell_type": "markdown",
   "metadata": {
    "slideshow": {
     "slide_type": "subslide"
    }
   },
   "source": [
    "Instancje w zasadzie umieją robić tylko jedną rzecz - odwołania do atrybutów.  \n",
    "Atrybut moze być dowolnym obiektem (liczbą, napisem, funkcją, ...).  "
   ]
  },
  {
   "cell_type": "markdown",
   "metadata": {
    "slideshow": {
     "slide_type": "subslide"
    }
   },
   "source": [
    "### Pytania do sali\n",
    "- Czym się różni klasa od instancji?\n",
    "- Czy instancje są obiektami?\n",
    "- Czy dwie instancje tej samej klasy są różnymi obiektami?\n",
    "- Czy instancje mogą współdzielić jakiś obszar pamięci?"
   ]
  },
  {
   "cell_type": "markdown",
   "metadata": {
    "slideshow": {
     "slide_type": "slide"
    }
   },
   "source": [
    "## 5. Dane - co w klasie a co w instancji"
   ]
  },
  {
   "cell_type": "markdown",
   "metadata": {
    "slideshow": {
     "slide_type": "subslide"
    }
   },
   "source": [
    "### Atrybuty klasy i instancji"
   ]
  },
  {
   "cell_type": "markdown",
   "metadata": {
    "slideshow": {
     "slide_type": "subslide"
    }
   },
   "source": [
    "Podział jest prosty - to co zdefiniujemy w klasie należy do klasy, a co w instancji należy do instancji.  \n",
    "Wydaje się proste, ale można się zaskoczyć."
   ]
  },
  {
   "cell_type": "code",
   "execution_count": 1,
   "metadata": {
    "slideshow": {
     "slide_type": "subslide"
    }
   },
   "outputs": [
    {
     "name": "stdout",
     "output_type": "stream",
     "text": [
      "<class '__main__.Surprise'> 44 []\n",
      "<__main__.Surprise object at 0x7f969f6ead90> 44 [] pierwsza\n",
      "<__main__.Surprise object at 0x7f969f6eaca0> 44 [] druga\n"
     ]
    }
   ],
   "source": [
    "class Surprise():\n",
    "    a = 44\n",
    "    b = []\n",
    "    def __init__(self, name):\n",
    "        self.name = name\n",
    "        \n",
    "sup1 = Surprise('pierwsza')\n",
    "sup2 = Surprise('druga')\n",
    "\n",
    "def print_surprises():\n",
    "    print(Surprise, Surprise.a, Surprise.b)\n",
    "    # Surprise.name nie jest dostępne\n",
    "    print(sup1, sup1.a, sup1.b, sup1.name)\n",
    "    print(sup2, sup2.a, sup2.b, sup2.name)\n",
    "    \n",
    "print_surprises()"
   ]
  },
  {
   "cell_type": "code",
   "execution_count": 2,
   "metadata": {
    "slideshow": {
     "slide_type": "subslide"
    }
   },
   "outputs": [
    {
     "name": "stdout",
     "output_type": "stream",
     "text": [
      "<class '__main__.Surprise'> 44 []\n",
      "<__main__.Surprise object at 0x7f969f6ead90> 23 [] pierwsza\n",
      "<__main__.Surprise object at 0x7f969f6eaca0> 44 [] druga\n"
     ]
    }
   ],
   "source": [
    "sup1.a = 23\n",
    "print_surprises()"
   ]
  },
  {
   "cell_type": "code",
   "execution_count": 3,
   "metadata": {
    "slideshow": {
     "slide_type": "subslide"
    }
   },
   "outputs": [
    {
     "name": "stdout",
     "output_type": "stream",
     "text": [
      "<class '__main__.Surprise'> 55 []\n",
      "<__main__.Surprise object at 0x7f969f6ead90> 23 [] pierwsza\n",
      "<__main__.Surprise object at 0x7f969f6eaca0> 55 [] druga\n"
     ]
    }
   ],
   "source": [
    "Surprise.a = 55\n",
    "print_surprises()"
   ]
  },
  {
   "cell_type": "code",
   "execution_count": 6,
   "metadata": {
    "slideshow": {
     "slide_type": "subslide"
    }
   },
   "outputs": [
    {
     "name": "stdout",
     "output_type": "stream",
     "text": [
      "<class '__main__.Surprise'> 55 ['niespodzianka :)']\n",
      "<__main__.Surprise object at 0x7f81284ed908> 23 ['niespodzianka :)'] pierwsza\n",
      "<__main__.Surprise object at 0x7f81284ed8d0> 55 ['niespodzianka :)'] druga\n"
     ]
    }
   ],
   "source": [
    "sup1.b.append('niespodzianka :)')\n",
    "print_surprises()"
   ]
  },
  {
   "cell_type": "code",
   "execution_count": 7,
   "metadata": {
    "slideshow": {
     "slide_type": "subslide"
    }
   },
   "outputs": [
    {
     "name": "stdout",
     "output_type": "stream",
     "text": [
      "<class '__main__.Surprise'> 55 ['niespodzianka :)']\n",
      "<__main__.Surprise object at 0x7f81284ed908> 23 ['niespodzianka :)'] pierwsza\n",
      "<__main__.Surprise object at 0x7f81284ed8d0> 55 ['całkiem inna niespodzianka'] druga\n"
     ]
    }
   ],
   "source": [
    "sup2.b = ['całkiem inna niespodzianka']\n",
    "print_surprises()"
   ]
  },
  {
   "cell_type": "code",
   "execution_count": 8,
   "metadata": {
    "slideshow": {
     "slide_type": "subslide"
    }
   },
   "outputs": [
    {
     "ename": "AttributeError",
     "evalue": "'Surprise' object has no attribute 'nowy'",
     "output_type": "error",
     "traceback": [
      "\u001b[0;31m---------------------------------------------------------------------------\u001b[0m",
      "\u001b[0;31mAttributeError\u001b[0m                            Traceback (most recent call last)",
      "\u001b[0;32m<ipython-input-8-a089a7dd7dc7>\u001b[0m in \u001b[0;36m<module>\u001b[0;34m\u001b[0m\n\u001b[0;32m----> 1\u001b[0;31m \u001b[0mprint\u001b[0m\u001b[0;34m(\u001b[0m\u001b[0msup2\u001b[0m\u001b[0;34m.\u001b[0m\u001b[0mnowy\u001b[0m\u001b[0;34m)\u001b[0m\u001b[0;34m\u001b[0m\u001b[0;34m\u001b[0m\u001b[0m\n\u001b[0m",
      "\u001b[0;31mAttributeError\u001b[0m: 'Surprise' object has no attribute 'nowy'"
     ]
    }
   ],
   "source": [
    "print(sup2.nowy)"
   ]
  },
  {
   "cell_type": "code",
   "execution_count": 9,
   "metadata": {
    "slideshow": {
     "slide_type": "subslide"
    }
   },
   "outputs": [
    {
     "name": "stdout",
     "output_type": "stream",
     "text": [
      "czary mary\n"
     ]
    }
   ],
   "source": [
    "Surprise.nowy = 'czary mary'\n",
    "print(sup2.nowy)"
   ]
  },
  {
   "cell_type": "markdown",
   "metadata": {
    "slideshow": {
     "slide_type": "subslide"
    }
   },
   "source": [
    "Powyższy przykład działa, ponieważ najpierw atrybut jest wyszukiwany w instancji, a jeśli nie zostanie znaleziony to w klasie."
   ]
  },
  {
   "cell_type": "markdown",
   "metadata": {
    "slideshow": {
     "slide_type": "subslide"
    }
   },
   "source": [
    "Zazwyczaj współdzielenie stanu między instancjami jest bardzo ryzykowne. Łatwo się pomylić, ciężko taki błąd znaleźć."
   ]
  },
  {
   "cell_type": "markdown",
   "metadata": {
    "slideshow": {
     "slide_type": "subslide"
    }
   },
   "source": [
    "### Kontrola dostępu"
   ]
  },
  {
   "cell_type": "markdown",
   "metadata": {
    "slideshow": {
     "slide_type": "subslide"
    }
   },
   "source": [
    "Możliwa jedynie za pomocą konwencji. W pythonie nie ma mechanizmów blokujących dostęp do wnętrza (implementacji) klasy. Każdy klient może gmerać wszędzie. Co nie jest dobrym pomysłem, ale jesteśmy dorośli - nie biadolimy jak sami zrobimy sobie krzywdę."
   ]
  },
  {
   "cell_type": "markdown",
   "metadata": {
    "slideshow": {
     "slide_type": "subslide"
    }
   },
   "source": [
    "#### Konwencja\n",
    "Wszystkie nazwy zaczynające się od pojedynczego podkreślnika (`_`) są uznawane za prywatne - niezależnie od poziomu na którym zostaną zdefiniowane (moduł, funkcja, zmienna, pole klasy, ...).\n",
    "\n",
    "Zmiana zawartości takich atrybutów odbywa się na własne ryzyko. W nowszej wersji np jakiejś biblioteki sposób działania kodu może się zmienić i nasza zmiana spowoduje katastrofę. Ludzie starają się przestrzegać tej konwencji. Nazwy z podwójnymi podkreśleniami z przodu i z tyłu są zarezerwowane: częśc już jest używana przez python, a w każdej chwili mogą dojść nowe."
   ]
  },
  {
   "cell_type": "markdown",
   "metadata": {
    "slideshow": {
     "slide_type": "subslide"
    }
   },
   "source": [
    "### Odwoływanie się do atrybutów instancji wewnątrz metody"
   ]
  },
  {
   "cell_type": "code",
   "execution_count": 4,
   "metadata": {
    "slideshow": {
     "slide_type": "subslide"
    }
   },
   "outputs": [
    {
     "name": "stdout",
     "output_type": "stream",
     "text": [
      "Imię: Jan, Nazwisko: Kos\n",
      "{'name': 'Jan', 'surname': 'Kos'}\n"
     ]
    }
   ],
   "source": [
    "class Person():\n",
    "    def __init__(self, name, surname):\n",
    "        self.name = name\n",
    "        self.surname = surname\n",
    "        \n",
    "    def formalize(self):\n",
    "        # do atrybutów odwołujemy się poprzez pierwszy argument metody (self)\n",
    "        return 'Imię: {}, Nazwisko: {}'.format(self.name, self.surname)\n",
    "        \n",
    "janek = Person('Jan', 'Kos')\n",
    "\n",
    "print(janek.formalize())\n",
    "print(janek.__dict__)"
   ]
  },
  {
   "cell_type": "markdown",
   "metadata": {
    "slideshow": {
     "slide_type": "slide"
    }
   },
   "source": [
    "## 6. Metody instancji i klasy"
   ]
  },
  {
   "cell_type": "markdown",
   "metadata": {
    "slideshow": {
     "slide_type": "subslide"
    }
   },
   "source": [
    "### Metody klas\n",
    "W Pythonie nie mamy dostępnego przeładowywania metod w zależności od typu argumentów. Między innymi z tego powodu mamy jeden konstruktor. Jeśli bardzo chcielibyśmy mieć alternatywny konstruktor (jak np w `datetime`) to możemy użyć metody klasy.  \n",
    "Metoda klasy (`classmethod`) to funkcja zdefiniowana w klasie (metoda), która za pierwszy argument nie przyjmuje instancji tylko obiekt klasy. "
   ]
  },
  {
   "cell_type": "code",
   "execution_count": 9,
   "metadata": {
    "slideshow": {
     "slide_type": "subslide"
    }
   },
   "outputs": [
    {
     "name": "stdout",
     "output_type": "stream",
     "text": [
      "Jestem w __init__\n",
      "zwykły:  {'a': 1, 'b': 2, 'c': 3}\n",
      "\n",
      "Jestem w from_string\n",
      "Jestem w __init__\n",
      "ze_stringa:  {'a': 'Ala', 'b': 'ma', 'c': 'Asa'}\n"
     ]
    }
   ],
   "source": [
    "class MyAbc():\n",
    "    def __init__(self, a, b, c):\n",
    "        print('Jestem w __init__')\n",
    "        self.a = a\n",
    "        self.b = b\n",
    "        self.c = c\n",
    "        \n",
    "    @classmethod # dekorator -> szczegóły na zajęciach levelUp\n",
    "    def from_string(cls, str_in):\n",
    "        print('Jestem w from_string')\n",
    "        a, b, c = str_in.split('.')\n",
    "        return cls(a, b, c)\n",
    "    \n",
    "zwykły = MyAbc(1, 2, 3)\n",
    "print('zwykły: ', zwykły.__dict__)\n",
    "print()\n",
    "ze_stringa = MyAbc.from_string('Ala.ma.Asa')\n",
    "print('ze_stringa: ', ze_stringa.__dict__)"
   ]
  },
  {
   "cell_type": "markdown",
   "metadata": {
    "slideshow": {
     "slide_type": "slide"
    }
   },
   "source": [
    "## 7. Dziedziczenie"
   ]
  },
  {
   "cell_type": "code",
   "execution_count": 13,
   "metadata": {
    "slideshow": {
     "slide_type": "subslide"
    }
   },
   "outputs": [
    {
     "name": "stdout",
     "output_type": "stream",
     "text": [
      "<class '__main__.B'>\n",
      "isinstance(b, B):  True\n",
      "isinstance(b, A):  True\n",
      "issubclass(B, A):  True\n",
      "issubclass(A, B):  False\n"
     ]
    }
   ],
   "source": [
    "class A():\n",
    "    pass\n",
    "\n",
    "class B(A): # klasa B dziedziczy po A\n",
    "    pass\n",
    "\n",
    "b = B()\n",
    "print(type(b))\n",
    "print('isinstance(b, B): ', isinstance(b, B))\n",
    "print('isinstance(b, A): ', isinstance(b, A))\n",
    "print('issubclass(B, A): ', issubclass(B, A))\n",
    "print('issubclass(A, B): ', issubclass(A, B))"
   ]
  },
  {
   "cell_type": "code",
   "execution_count": 14,
   "metadata": {
    "slideshow": {
     "slide_type": "subslide"
    }
   },
   "outputs": [
    {
     "name": "stdout",
     "output_type": "stream",
     "text": [
      "<class '__main__.C'>\n",
      "isinstance(c, A):  True\n",
      "isinstance(c, B):  True\n",
      "isinstance(c, C):  True\n"
     ]
    }
   ],
   "source": [
    "# dziedziczenie wielokrotne\n",
    "class A():\n",
    "    pass\n",
    "\n",
    "class B():\n",
    "    pass\n",
    "\n",
    "class C(A, B): # klasa C dziedziczy po A i B\n",
    "    pass\n",
    "\n",
    "c = C()\n",
    "print(type(c))\n",
    "print('isinstance(c, A): ', isinstance(c, A))\n",
    "print('isinstance(c, B): ', isinstance(c, B))\n",
    "print('isinstance(c, C): ', isinstance(c, C))"
   ]
  },
  {
   "cell_type": "markdown",
   "metadata": {
    "slideshow": {
     "slide_type": "subslide"
    }
   },
   "source": [
    "Tak naprawdę wszystkie klasy definiowane przez użytkowików dziedziczą po `object`, więc każde dziedziczenie jest wielokrotne.\n",
    "\n",
    "W przypadku gdy kolejność wyszukiwania atrybutów w drzewie dziedziczenia nie jest oczywista (problem diamentowy), Python korzysta ze specjalnego algorytmu - `Method Resolution Order` (MRO). Na potrzebu kursu nie będziemy zajmować się dziedziczeniem wielokrotnym - dziedziczenie i tak bywa problematyczne, a wielokrotne poziom trudności zwiększa. W prosty sposób można sobie bardzo życie utrudnić."
   ]
  },
  {
   "cell_type": "markdown",
   "metadata": {
    "slideshow": {
     "slide_type": "slide"
    }
   },
   "source": [
    "## 8. Nadpisywanie metod klasy bazowej"
   ]
  },
  {
   "cell_type": "code",
   "execution_count": 23,
   "metadata": {
    "slideshow": {
     "slide_type": "subslide"
    }
   },
   "outputs": [
    {
     "name": "stdout",
     "output_type": "stream",
     "text": [
      "cześć\n",
      "jestem instancją klasy bazowej\n",
      "\n",
      "cześć\n",
      "jestem instancją klasy bazowej\n",
      "jestem instancją potomka\n"
     ]
    }
   ],
   "source": [
    "class Bazowa():\n",
    "    def hello(self):\n",
    "        print(\"cześć\")\n",
    "\n",
    "    def kim_jestem(self):\n",
    "        print(\"jestem instancją klasy bazowej\")\n",
    "        \n",
    "class Potomek(Bazowa): # Potomek dziedziczy po klasie Bazowej\n",
    "    def kim_jestem(self):\n",
    "        print(\"jestem instancją potomka\")\n",
    "\n",
    "b = Bazowa(); p = Potomek()\n",
    "\n",
    "b.hello()\n",
    "b.kim_jestem()\n",
    "\n",
    "print()\n",
    "p.hello()\n",
    "p.kim_jestem()"
   ]
  },
  {
   "cell_type": "markdown",
   "metadata": {
    "slideshow": {
     "slide_type": "subslide"
    }
   },
   "source": [
    "### Pytania do sali\n",
    "- Czy można się dostać do nadpisanych metod?"
   ]
  },
  {
   "cell_type": "markdown",
   "metadata": {
    "slideshow": {
     "slide_type": "slide"
    }
   },
   "source": [
    "## 9. Wywoływanie metod klasy bazowej"
   ]
  },
  {
   "cell_type": "code",
   "execution_count": 31,
   "metadata": {
    "slideshow": {
     "slide_type": "subslide"
    }
   },
   "outputs": [
    {
     "name": "stdout",
     "output_type": "stream",
     "text": [
      "\n",
      "cześć\n",
      "jestem instancją klasy bazowej\n",
      "jestem instancją potomka\n"
     ]
    }
   ],
   "source": [
    "class Bazowa():\n",
    "    def hello(self):\n",
    "        print(\"cześć\")\n",
    "\n",
    "    def kim_jestem(self):\n",
    "        print(\"jestem instancją klasy bazowej\")\n",
    "        \n",
    "class Potomek(Bazowa): # Potomek dziedziczy po klasie Bazowej\n",
    "    def kim_jestem(self):\n",
    "        super().kim_jestem()\n",
    "        print(\"jestem instancją potomka\")\n",
    "\n",
    "p = Potomek()\n",
    "print()\n",
    "p.hello()\n",
    "p.kim_jestem()"
   ]
  },
  {
   "cell_type": "markdown",
   "metadata": {
    "slideshow": {
     "slide_type": "subslide"
    }
   },
   "source": [
    "#### Uczmy się od najlepszych:\n",
    "* https://www.youtube.com/watch?v=EiOglTERPEo\n",
    "* https://rhettinger.wordpress.com/2011/05/26/super-considered-super/"
   ]
  },
  {
   "cell_type": "markdown",
   "metadata": {
    "slideshow": {
     "slide_type": "slide"
    }
   },
   "source": [
    "## 10. Metody \"magiczne\""
   ]
  },
  {
   "cell_type": "markdown",
   "metadata": {
    "slideshow": {
     "slide_type": "subslide"
    }
   },
   "source": [
    "Zaimplementujemy klasę `Vector`.  \n",
    "Ta klasa będzie reprezentować wektor o rozmiarze n.  \n",
    "Przykładowe tworzenie instancji klasy:\n",
    "```python\n",
    "Vector(5) # tworzy wektor jednowymiarowy o długości 5 (n = 1)\n",
    "Vector(1, 2, 3) # tworzy wektor trójwymiarowy (n = 3)\n",
    "```"
   ]
  },
  {
   "cell_type": "code",
   "execution_count": 26,
   "metadata": {
    "slideshow": {
     "slide_type": "subslide"
    }
   },
   "outputs": [],
   "source": [
    "class Vector():\n",
    "    def __init__(self, *args):\n",
    "        self.coords = [x for x in args]\n",
    "        \n",
    "    def __len__(self):\n",
    "        return len(self.coords)\n",
    "\n",
    "    def __add__(self, other):\n",
    "        n = len(self.coords)\n",
    "        new_coords = [self.coords[i] + other.coords[i] for i in range(n)]\n",
    "        return Vector(*new_coords)"
   ]
  },
  {
   "cell_type": "markdown",
   "metadata": {
    "slideshow": {
     "slide_type": "subslide"
    }
   },
   "source": [
    "### \\_\\_len\\_\\_\n",
    "Powinno dać się \"zmierzyć\" liczbę wymiarów wektora za pomocą funkcji wbudowanej `len`."
   ]
  },
  {
   "cell_type": "code",
   "execution_count": 27,
   "metadata": {
    "slideshow": {
     "slide_type": "subslide"
    }
   },
   "outputs": [
    {
     "name": "stdout",
     "output_type": "stream",
     "text": [
      "3\n",
      "2\n"
     ]
    }
   ],
   "source": [
    "print(len(Vector(1, 2, 3)))\n",
    "print(len(Vector(4, 5)))"
   ]
  },
  {
   "cell_type": "markdown",
   "metadata": {
    "slideshow": {
     "slide_type": "subslide"
    }
   },
   "source": [
    "### \\_\\_add\\_\\_\n",
    "Dodawanie instancji - w naszym przypadku zakładamy, że operacja na wektorach o różnym wymiarze nie wystąpi.\n",
    "\n",
    "* https://docs.python.org/3/reference/datamodel.html#object.__add__"
   ]
  },
  {
   "cell_type": "code",
   "execution_count": 29,
   "metadata": {
    "slideshow": {
     "slide_type": "subslide"
    }
   },
   "outputs": [
    {
     "name": "stdout",
     "output_type": "stream",
     "text": [
      "{'coords': [4, 6]}\n"
     ]
    }
   ],
   "source": [
    "\n",
    "v1 = Vector(1, 2)\n",
    "v2 = Vector(3, 4)\n",
    "v3 = v1 + v2\n",
    "print(v3.__dict__)"
   ]
  },
  {
   "cell_type": "markdown",
   "metadata": {
    "slideshow": {
     "slide_type": "subslide"
    }
   },
   "source": [
    "### \\_\\_repr\\_\\_, \\_\\_str\\_\\_\n",
    "Rzutowanie instancji na stringa:\n",
    "\n",
    "```python\n",
    ">>> v = Vector(1, 2)\n",
    ">>> print('v: ', v)\n",
    "v:  Vector(1, 2)\n",
    "```\n",
    "\n",
    "* https://docs.python.org/3/reference/datamodel.html#object.__str__\n",
    "* https://docs.python.org/3/reference/datamodel.html#object.__repr__"
   ]
  },
  {
   "cell_type": "markdown",
   "metadata": {
    "slideshow": {
     "slide_type": "subslide"
    }
   },
   "source": [
    "### \\_\\_iadd\\_\\_\n",
    "\"Zwiększanie wartości\" jednego wektora o inny wektor.\n",
    "\n",
    "```python\n",
    "v1 = Vector(1, 2)\n",
    "v2 = Vector(3, 4)\n",
    "v1 += v2\n",
    "```"
   ]
  },
  {
   "cell_type": "markdown",
   "metadata": {
    "slideshow": {
     "slide_type": "subslide"
    }
   },
   "source": [
    "### \\_\\_eq\\_\\_\n",
    "Powinno dać się porównać czy dwie różne instancje klasy wektor są sobie równe:\n",
    "\n",
    "* https://docs.python.org/3/reference/datamodel.html#object.__eq__"
   ]
  },
  {
   "cell_type": "markdown",
   "metadata": {
    "slideshow": {
     "slide_type": "subslide"
    }
   },
   "source": [
    "### \\_\\_mul\\_\\_, \\_\\_rmul\\_\\_\n",
    "\n",
    "Mnożenie wektora przez liczbę powinno dawać nowy wektor o tym samym wymiarze z \n",
    "odpowiednio przemnożonymi \"współrzędnymi\".\n",
    "Mnożenie liczby przez wektor powinno dawać taki sam wektor jak mnożenie wektora przez liczbę.\n",
    "\n",
    "* https://docs.python.org/3/reference/datamodel.html#object.__mul__\n",
    "* https://docs.python.org/3/reference/datamodel.html#object.__rmul__"
   ]
  },
  {
   "cell_type": "code",
   "execution_count": 23,
   "metadata": {
    "slideshow": {
     "slide_type": "subslide"
    }
   },
   "outputs": [
    {
     "name": "stdout",
     "output_type": "stream",
     "text": [
      "Vector(1.1, 2.2, 3, 4)\n",
      "Vector(6.6000000000000005, 13.200000000000001, 18, 24)\n",
      "id(v1):  140192703239224\n",
      "id(v2):  140192703238832\n"
     ]
    }
   ],
   "source": [
    "v1 = Vector(1.1, 2.2, 3, 4)\n",
    "v2 = v1 * 6\n",
    "print(v1)\n",
    "print(v2)\n",
    "print('id(v1): ', id(v1))\n",
    "print('id(v2): ', id(v2))"
   ]
  },
  {
   "cell_type": "markdown",
   "metadata": {
    "slideshow": {
     "slide_type": "subslide"
    }
   },
   "source": [
    "### Pytania do sali\n",
    "- Czy obiekt może generować atrybuty \"na żądanie\"?\n",
    "- Czy można dynamicznie ustawiac atrybuty na obiekcie?\n",
    "- Czy można (jeśli tak to jak) zawołać obiekt/instancję klasy?\n",
    "- Co trzeba zrobić, żeby dało się obiektu w pętli `for` użyć?"
   ]
  },
  {
   "cell_type": "markdown",
   "metadata": {
    "slideshow": {
     "slide_type": "subslide"
    }
   },
   "source": [
    "# Pytania?"
   ]
  },
  {
   "cell_type": "markdown",
   "metadata": {
    "slideshow": {
     "slide_type": "subslide"
    }
   },
   "source": [
    "# That's all folks!"
   ]
  }
 ],
 "metadata": {
  "celltoolbar": "Slideshow",
  "kernelspec": {
   "display_name": "Python 3.8.10 64-bit",
   "language": "python",
   "name": "python3"
  },
  "language_info": {
   "codemirror_mode": {
    "name": "ipython",
    "version": 3
   },
   "file_extension": ".py",
   "mimetype": "text/x-python",
   "name": "python",
   "nbconvert_exporter": "python",
   "pygments_lexer": "ipython3",
   "version": "3.8.10"
  },
  "vscode": {
   "interpreter": {
    "hash": "e7370f93d1d0cde622a1f8e1c04877d8463912d04d973331ad4851f04de6915a"
   }
  }
 },
 "nbformat": 4,
 "nbformat_minor": 2
}
