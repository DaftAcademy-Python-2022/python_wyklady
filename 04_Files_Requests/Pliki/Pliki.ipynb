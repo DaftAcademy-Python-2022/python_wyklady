{
 "cells": [
  {
   "cell_type": "markdown",
   "id": "e67f43cd",
   "metadata": {},
   "source": [
    "# Praca z plikami\n",
    "\n",
    "### 01.12.2022, Python"
   ]
  },
  {
   "cell_type": "markdown",
   "id": "29b7d31d",
   "metadata": {},
   "source": [
    "Obsługa plików jest jedną z podstawowych umiejętności programisty. Odczyt danych zapisanych w plikach, wczytywanie plików konfiguracyjnych, zapisywanie poszczególnych danych do plików – wszystko to wykorzystane w naszych programach wpłynie na ich użyteczność.\n",
    "\n",
    "### Zmienne plikowe\n",
    "\n",
    "Do obsługi plików potrzebujemy zmiennej, która będzie pełniła rolę uchwytu do pliku. Wszelkie operacje związane z plikiem wykonuje się właśnie poprzez wykonywanie metod oferowanych przez zmienną plikową. Aby stworzyć zmienną plikową należy otworzyć plik."
   ]
  },
  {
   "cell_type": "markdown",
   "id": "05b12ab6",
   "metadata": {},
   "source": [
    "# 1. Otwieranie, czytanie i zamykanie pliku"
   ]
  },
  {
   "cell_type": "markdown",
   "id": "a12f358b",
   "metadata": {},
   "source": [
    "Funkcja  `open(file, mode)` pozwala otworzyć plik i zwraca go jako obiekt.      \n"
   ]
  },
  {
   "cell_type": "markdown",
   "id": "755fadbb",
   "metadata": {},
   "source": [
    "## 1.1. Otwarcie pliku"
   ]
  },
  {
   "cell_type": "markdown",
   "id": "dcf41e66",
   "metadata": {},
   "source": [
    "### Metoda `open`\n",
    "Do otwierania pliku służy metoda open. Zwraca ona uchwyt do pliku. Metoda za argument przyjmuje ścieżkę do pliku.\n",
    "Jeżeli plik, który chcemy otworzyć znajduje się w tym samym katalogu co wykonywany plik Pythona wystarczy, że podamy jego nazwę (ścieżka relative).\n",
    "\n",
    "Jeśli plik znajduje się w innym miejscu na naszym komputerze podajemy całą ścieżkę do pliku (ścieżka absolute):\n",
    "\n",
    "`filepath = \"dane.txt\"  # ścieżka relative`\n",
    "\n",
    "`filepath = \"E:\\home\\dane.txt\"  # ścieżka absolute`\n",
    "\n",
    "UWAGA! Jeżeli pracujesz na systemie Windows to podając pełną ścieżkę do pliku stosuj podwójne ukośniki (\\) tak jak na powyższym kodzie**. "
   ]
  },
  {
   "cell_type": "markdown",
   "id": "41b141ab",
   "metadata": {},
   "source": [
    "### Tryb `mode` otwarcia/odczytu pliku (tryb pracy z plikami)\n",
    "\n",
    "Drugim często stosowanym argumentem metody jest tryb otwarcia pliku. Parametr mode określa, w jakim trybie otwieramy plik. Najczęściej stosowane tryby to:\n",
    "\n",
    "- 'r' - (read) - otwiera plik do odczytu, zwraca błąd jeśli plik nie istnieje\n",
    "- 'a' - (append) - otwiera plik do dopisania, tworzy plik jeśli nie istnieje (lub dodaje nową treść na końcu pliku, nie usuwa starej)\n",
    "- 'w' - (write) - otwiera plik do zapisu, tworzy plik jeśli nie istnieje (lub zawartość pliku jest usuwana)\n",
    "\n",
    "Domyślnie wszystkie pliki otwierane są w trybie tekstowym. Możemy otwierać je również w trybie binarnym dodając flagę ‘b‘. Na przykład “rb” otworzy nam plik do oczytu binarnie.\n",
    "\n",
    "Użycie operatora ‘+’ pozwoli na otwarcie pliku zarówno do zapisu jak i odczytu (np “r+”)."
   ]
  },
  {
   "cell_type": "code",
   "execution_count": 1,
   "id": "dd4a5ab9",
   "metadata": {},
   "outputs": [],
   "source": [
    "# Otwieramy z poziomu Pythona plik: \n",
    "\n",
    "file = open('simple.txt', 'r') # od razu otwieramy plik `simple.txt` do zmiennej file\n",
    "\n",
    "# `open(,)` - pierwszy atrybut/argument to nazwa pliku, drugi to atrybut czy chcemy odczytać czy zapisać (tryb otwarcia)\n",
    "# `r` - read (odczyt)\n",
    "# po uruchomieniu zmienna file jest w przestrzeni zmiennych jako obiekt, ma swój własny typ TextIOWrapper"
   ]
  },
  {
   "cell_type": "markdown",
   "id": "bb622726",
   "metadata": {},
   "source": [
    "### Czytanie pliku linijka po linijce"
   ]
  },
  {
   "cell_type": "markdown",
   "id": "828b0e91",
   "metadata": {},
   "source": [
    "Zawartość otwartego pliku możemy wczytać od razu w całości, bądź czytać go linia po linii."
   ]
  },
  {
   "cell_type": "code",
   "execution_count": 2,
   "id": "93101421",
   "metadata": {},
   "outputs": [
    {
     "data": {
      "text/plain": [
       "'Pierwsza linia\\nDruga linia\\nTrzecia linia\\n'"
      ]
     },
     "execution_count": 2,
     "metadata": {},
     "output_type": "execute_result"
    }
   ],
   "source": [
    "# Aby odczytać całą treść pliku korzystamy z metody `read`:\n",
    "\n",
    "file.read() "
   ]
  },
  {
   "cell_type": "code",
   "execution_count": 3,
   "id": "1286c051",
   "metadata": {},
   "outputs": [
    {
     "data": {
      "text/plain": [
       "'Pierws'"
      ]
     },
     "execution_count": 3,
     "metadata": {},
     "output_type": "execute_result"
    }
   ],
   "source": [
    "# Za pomocą tej samej metody czytamy konkretną liczbę znaków podaną przez nas jako parametr metody:\n",
    "\n",
    "file = open('simple.txt', \"r\")\n",
    "file.read(6)"
   ]
  },
  {
   "cell_type": "markdown",
   "id": "d6f8ae10",
   "metadata": {},
   "source": [
    "UWAGA! Po odczytaniu zawartości pliku zostaje ona “wykasowana” ze zmiennej plikowej."
   ]
  },
  {
   "cell_type": "code",
   "execution_count": 4,
   "id": "3bd4d7c6",
   "metadata": {},
   "outputs": [
    {
     "data": {
      "text/plain": [
       "'za linia'"
      ]
     },
     "execution_count": 4,
     "metadata": {},
     "output_type": "execute_result"
    }
   ],
   "source": [
    "f = open('simple.txt', \"r\")\n",
    "file.read(8)"
   ]
  },
  {
   "cell_type": "code",
   "execution_count": 5,
   "id": "7e82af50",
   "metadata": {},
   "outputs": [
    {
     "data": {
      "text/plain": [
       "''"
      ]
     },
     "execution_count": 5,
     "metadata": {},
     "output_type": "execute_result"
    }
   ],
   "source": [
    "# Po odczytaniu całego pliku następne wywołanie metody `read` zwróci pusty napis:\n",
    "\n",
    "file = open('simple.txt', \"r\")\n",
    "tekst = file.read()\n",
    "file.read()"
   ]
  },
  {
   "cell_type": "code",
   "execution_count": 6,
   "id": "5cef1cd4",
   "metadata": {},
   "outputs": [
    {
     "name": "stdout",
     "output_type": "stream",
     "text": [
      "Pierwsza linia\n"
     ]
    }
   ],
   "source": [
    "# Teraz zobaczmy, że początkowo plik został odczytany:\n",
    "\n",
    "print(tekst[:14])"
   ]
  },
  {
   "cell_type": "code",
   "execution_count": 7,
   "id": "3b27cff2",
   "metadata": {},
   "outputs": [
    {
     "name": "stdout",
     "output_type": "stream",
     "text": [
      "Pierwsza linia\n",
      "\n",
      "Druga linia\n",
      "\n",
      "Trzecia linia\n",
      "\n"
     ]
    }
   ],
   "source": [
    "# Możemy też po takim obiekcie iterować:\n",
    "\n",
    "file = open('simple.txt', \"r\")\n",
    "for line in file:\n",
    "    print(line)"
   ]
  },
  {
   "cell_type": "code",
   "execution_count": 8,
   "id": "6590d036",
   "metadata": {},
   "outputs": [
    {
     "name": "stdout",
     "output_type": "stream",
     "text": [
      "Pierwsza linia\n",
      "\n"
     ]
    }
   ],
   "source": [
    "# Aby odczytać pojedyczną linię z pliku używamy polecenia `readline`:\n",
    "\n",
    "with open('simple.txt', 'r') as file:\n",
    "    line = file.readline() # przypisanie do zmiennej `line` pierwszej linijki z pliku \n",
    "    print(line)\n",
    "    \n",
    "# Jak widać zczytana została cała pierwsza linia pliku (wraz ze znakiem końca linii).    "
   ]
  },
  {
   "cell_type": "code",
   "execution_count": 9,
   "id": "52049005",
   "metadata": {},
   "outputs": [
    {
     "name": "stdout",
     "output_type": "stream",
     "text": [
      "Druga linia\n",
      "\n"
     ]
    }
   ],
   "source": [
    "# Ponowne użycie metody pozwoli nam na wczytanie następnej linii:\n",
    "\n",
    "with open('simple.txt', 'r') as file:\n",
    "    line = file.readline()  \n",
    "    line = file.readline()\n",
    "    print(line)"
   ]
  },
  {
   "cell_type": "code",
   "execution_count": 10,
   "id": "07f966ec",
   "metadata": {},
   "outputs": [
    {
     "name": "stdout",
     "output_type": "stream",
     "text": [
      "Pierwsza linia\n",
      "\n",
      "Druga linia\n",
      "\n",
      "Trzecia linia\n",
      "\n"
     ]
    }
   ],
   "source": [
    "# Plik możemy czytać linia po linii za pomocą pętli:\n",
    "\n",
    "file = open('simple.txt', \"r\")\n",
    "for line in file:\n",
    "    print(line)"
   ]
  },
  {
   "cell_type": "code",
   "execution_count": 11,
   "id": "33b6f5e6",
   "metadata": {},
   "outputs": [
    {
     "name": "stdout",
     "output_type": "stream",
     "text": [
      "Pierwsza linia\n",
      "Druga linia\n",
      "Trzecia linia\n"
     ]
    }
   ],
   "source": [
    "# By pozbyć się dodatkowych odstępów możemy użyć parametru `end` w funkcji print:\n",
    "\n",
    "file = open('simple.txt', \"r\")\n",
    "for line in file:\n",
    "    print(line, end=\"\")"
   ]
  },
  {
   "cell_type": "code",
   "execution_count": 12,
   "id": "e4ff2977",
   "metadata": {},
   "outputs": [
    {
     "name": "stdout",
     "output_type": "stream",
     "text": [
      "['Pierwsza linia\\n', 'Druga linia\\n', 'Trzecia linia\\n']\n"
     ]
    }
   ],
   "source": [
    "# Inną opcją jest wczytanie wszystkich linii pliku do listy. Służy do tego metoda `readlines`,\n",
    "# Metoda `readlines()` wczyta nam jako elementy listy wszystkie linie pliku:\n",
    "\n",
    "with open('simple.txt', 'r') as file:\n",
    "    lines = file.readlines() \n",
    "    print(lines)"
   ]
  },
  {
   "cell_type": "markdown",
   "id": "9bdaed10",
   "metadata": {},
   "source": [
    "### Czytanie pliku znak po znaku"
   ]
  },
  {
   "cell_type": "markdown",
   "id": "3b9c7511",
   "metadata": {},
   "source": [
    "Można czytać konkretną liczbę znaków z pliku. Korzystając z tego możemy czytać plik znak po znaku."
   ]
  },
  {
   "cell_type": "code",
   "execution_count": 13,
   "id": "01a2d587",
   "metadata": {},
   "outputs": [
    {
     "name": "stdout",
     "output_type": "stream",
     "text": [
      "P\n"
     ]
    }
   ],
   "source": [
    "file = open('simple.txt', \"r\")\n",
    "znak = file.read(1)\n",
    "print(znak)\n"
   ]
  },
  {
   "cell_type": "code",
   "execution_count": 14,
   "id": "4a842634",
   "metadata": {},
   "outputs": [
    {
     "name": "stdout",
     "output_type": "stream",
     "text": [
      "Pierws\n",
      "za \n",
      "lin\n",
      "ia\n",
      "\n",
      "Dru\n",
      "ga \n",
      "lin\n",
      "ia\n",
      "\n",
      "Trz\n",
      "eci\n",
      "a l\n",
      "ini\n",
      "a\n",
      "\n"
     ]
    }
   ],
   "source": [
    "file = open('simple.txt', \"r\")\n",
    "znak = file.read(6) # po 1, 2 etc., spacja to też znak (biały)\n",
    "while znak:\n",
    "    print(znak)\n",
    "    znak = file.read(3)"
   ]
  },
  {
   "cell_type": "markdown",
   "id": "55955a19",
   "metadata": {},
   "source": [
    "## 1.2. Zamknięcie pliku"
   ]
  },
  {
   "cell_type": "markdown",
   "id": "fb6138a5",
   "metadata": {},
   "source": [
    "Jeśli otworzyliśmy plik, to powinniśmy również go zamknąć. To dobra praktyka obsługi plików. Służy do tego metoda `close()`."
   ]
  },
  {
   "cell_type": "code",
   "execution_count": 15,
   "id": "4db3652e",
   "metadata": {},
   "outputs": [],
   "source": [
    "# Zamykamy plik:\n",
    "file = open('simple.txt', \"r\")\n",
    "file.close()    "
   ]
  },
  {
   "cell_type": "markdown",
   "id": "0f5ddcf8",
   "metadata": {},
   "source": [
    "### Dlaczego nie można zostawić otwartego pliku?"
   ]
  },
  {
   "cell_type": "markdown",
   "id": "a4a6713f",
   "metadata": {},
   "source": [
    "Otwarty w programie plik może spowodować problemy. Inne aplikacje próbujące go odczytać nie będą mogły tego zrobić. Jeżeli korzystamy z domyślnej dystrybucji CPython, to nawet jeśli nie zamkniemy pliku, to przy końcu programu zostanie on zamknięty automatycznie. Jednak nie każda dystrybucja zrobi to za nas. Dobrą praktyką jest zamykanie pliku samodzielnie!"
   ]
  },
  {
   "cell_type": "code",
   "execution_count": 16,
   "id": "44f5b965",
   "metadata": {},
   "outputs": [
    {
     "ename": "ValueError",
     "evalue": "I/O operation on closed file.",
     "output_type": "error",
     "traceback": [
      "\u001b[0;31m---------------------------------------------------------------------------\u001b[0m",
      "\u001b[0;31mValueError\u001b[0m                                Traceback (most recent call last)",
      "\u001b[0;32m/var/folders/vp/nz2438p55y1887kk536xrnjc0000gn/T/ipykernel_32663/3882933219.py\u001b[0m in \u001b[0;36m<module>\u001b[0;34m\u001b[0m\n\u001b[1;32m      1\u001b[0m \u001b[0;31m# Po zamknięciu pliku nie możemy z niego czytać!\u001b[0m\u001b[0;34m\u001b[0m\u001b[0;34m\u001b[0m\u001b[0m\n\u001b[1;32m      2\u001b[0m \u001b[0;34m\u001b[0m\u001b[0m\n\u001b[0;32m----> 3\u001b[0;31m \u001b[0;32mfor\u001b[0m \u001b[0mline\u001b[0m \u001b[0;32min\u001b[0m \u001b[0mfile\u001b[0m\u001b[0;34m:\u001b[0m\u001b[0;34m\u001b[0m\u001b[0;34m\u001b[0m\u001b[0m\n\u001b[0m\u001b[1;32m      4\u001b[0m    \u001b[0mprint\u001b[0m\u001b[0;34m(\u001b[0m\u001b[0mline\u001b[0m\u001b[0;34m,\u001b[0m \u001b[0mend\u001b[0m \u001b[0;34m=\u001b[0m \u001b[0;34m''\u001b[0m\u001b[0;34m)\u001b[0m\u001b[0;34m\u001b[0m\u001b[0;34m\u001b[0m\u001b[0m\n",
      "\u001b[0;31mValueError\u001b[0m: I/O operation on closed file."
     ]
    }
   ],
   "source": [
    "# Po zamknięciu pliku nie możemy z niego czytać!\n",
    "\n",
    "for line in file:\n",
    "   print(line, end = '')"
   ]
  },
  {
   "cell_type": "markdown",
   "id": "d870fac5",
   "metadata": {},
   "source": [
    "Przydatne linki:\n",
    "- https://stackoverflow.com/questions/3167494/how-often-does-python-flush-to-a-file\n",
    "- https://askubuntu.com/questions/701491/is-closing-a-file-after-having-opened-it-with-open-required-in-python"
   ]
  },
  {
   "cell_type": "markdown",
   "id": "b88ecdc3",
   "metadata": {},
   "source": [
    "### Krótszy zapis sekwencji: otwarcie, czytanie, zamknięcie pliku"
   ]
  },
  {
   "cell_type": "code",
   "execution_count": 17,
   "id": "29cccc8b",
   "metadata": {
    "scrolled": true
   },
   "outputs": [
    {
     "name": "stdout",
     "output_type": "stream",
     "text": [
      "Pierwsza linia\n",
      "Druga linia\n",
      "Trzecia linia\n"
     ]
    }
   ],
   "source": [
    "# Otwieramy pliku, iteracja odczytuje zawartość, zamykamy plik:\n",
    "    \n",
    "with open('simple.txt', 'r') as file:\n",
    "    for line in file:\n",
    "        print(line, end = '')"
   ]
  },
  {
   "cell_type": "markdown",
   "id": "94c99f32",
   "metadata": {},
   "source": [
    "### * Context Manager\n",
    "\n",
    "- obiekt, który definiuje w jakim kontekście ma się wywołać owijany kod\n",
    "- określa, co ma się wykonać przed i po wykonaniu bloku kodu owijanego\n",
    "- zazwyczaj wywoływane ze pomocą `with`, ale da się też bezpośrednio wywołać poszczególne metody\n",
    "- przykłady użycia: zamykanie otwartych plików, zwalnianie zasobów/locków, przywracanie jakiegoś globalnego stanu\n",
    "\n",
    "Przydatne linki::\n",
    "- https://docs.python.org/3/reference/datamodel.html#context-managers\n",
    "- https://docs.python.org/3/library/stdtypes.html#typecontextmanager\n",
    "- https://docs.python.org/3/reference/compound_stmts.html#with\n",
    "- https://www.python.org/dev/peps/pep-0343/"
   ]
  },
  {
   "cell_type": "markdown",
   "id": "45eaed5f",
   "metadata": {},
   "source": [
    "## 1.3. Kodowanie"
   ]
  },
  {
   "cell_type": "markdown",
   "id": "65441103",
   "metadata": {},
   "source": [
    "Problemy z kodowaniem plików zdarzają się przy obsłudze polskojęzycznych tekstów. Plik zapisany z nieprawidłowym kodowaniem może sprawić, że zamiast polskich znaków widać będzie niezrozumiałe symbole.\n",
    "\n",
    "Aby naprawić ten problem często wystarczy otworzyć plik z kodowaniem w standardzie ‘UTF-8’."
   ]
  },
  {
   "cell_type": "code",
   "execution_count": 18,
   "id": "625ca25d",
   "metadata": {},
   "outputs": [
    {
     "data": {
      "text/plain": [
       "'kolor żółty'"
      ]
     },
     "execution_count": 18,
     "metadata": {},
     "output_type": "execute_result"
    }
   ],
   "source": [
    "f = open('simple1.txt', \"r\", encoding=\"utf-8\")\n",
    "f.read()"
   ]
  },
  {
   "cell_type": "code",
   "execution_count": 19,
   "id": "c7080b75",
   "metadata": {},
   "outputs": [
    {
     "ename": "UnicodeDecodeError",
     "evalue": "'ascii' codec can't decode byte 0xc5 in position 6: ordinal not in range(128)",
     "output_type": "error",
     "traceback": [
      "\u001b[0;31m---------------------------------------------------------------------------\u001b[0m",
      "\u001b[0;31mUnicodeDecodeError\u001b[0m                        Traceback (most recent call last)",
      "\u001b[0;32m/var/folders/vp/nz2438p55y1887kk536xrnjc0000gn/T/ipykernel_32663/3065626187.py\u001b[0m in \u001b[0;36m<module>\u001b[0;34m\u001b[0m\n\u001b[1;32m      1\u001b[0m \u001b[0mf\u001b[0m \u001b[0;34m=\u001b[0m \u001b[0mopen\u001b[0m\u001b[0;34m(\u001b[0m\u001b[0;34m'simple1.txt'\u001b[0m\u001b[0;34m,\u001b[0m \u001b[0;34m\"r\"\u001b[0m\u001b[0;34m,\u001b[0m \u001b[0mencoding\u001b[0m\u001b[0;34m=\u001b[0m\u001b[0;34m\"ascii\"\u001b[0m\u001b[0;34m)\u001b[0m\u001b[0;34m\u001b[0m\u001b[0;34m\u001b[0m\u001b[0m\n\u001b[0;32m----> 2\u001b[0;31m \u001b[0mf\u001b[0m\u001b[0;34m.\u001b[0m\u001b[0mread\u001b[0m\u001b[0;34m(\u001b[0m\u001b[0;34m)\u001b[0m\u001b[0;34m\u001b[0m\u001b[0;34m\u001b[0m\u001b[0m\n\u001b[0m",
      "\u001b[0;32m~/opt/anaconda3/lib/python3.9/encodings/ascii.py\u001b[0m in \u001b[0;36mdecode\u001b[0;34m(self, input, final)\u001b[0m\n\u001b[1;32m     24\u001b[0m \u001b[0;32mclass\u001b[0m \u001b[0mIncrementalDecoder\u001b[0m\u001b[0;34m(\u001b[0m\u001b[0mcodecs\u001b[0m\u001b[0;34m.\u001b[0m\u001b[0mIncrementalDecoder\u001b[0m\u001b[0;34m)\u001b[0m\u001b[0;34m:\u001b[0m\u001b[0;34m\u001b[0m\u001b[0;34m\u001b[0m\u001b[0m\n\u001b[1;32m     25\u001b[0m     \u001b[0;32mdef\u001b[0m \u001b[0mdecode\u001b[0m\u001b[0;34m(\u001b[0m\u001b[0mself\u001b[0m\u001b[0;34m,\u001b[0m \u001b[0minput\u001b[0m\u001b[0;34m,\u001b[0m \u001b[0mfinal\u001b[0m\u001b[0;34m=\u001b[0m\u001b[0;32mFalse\u001b[0m\u001b[0;34m)\u001b[0m\u001b[0;34m:\u001b[0m\u001b[0;34m\u001b[0m\u001b[0;34m\u001b[0m\u001b[0m\n\u001b[0;32m---> 26\u001b[0;31m         \u001b[0;32mreturn\u001b[0m \u001b[0mcodecs\u001b[0m\u001b[0;34m.\u001b[0m\u001b[0mascii_decode\u001b[0m\u001b[0;34m(\u001b[0m\u001b[0minput\u001b[0m\u001b[0;34m,\u001b[0m \u001b[0mself\u001b[0m\u001b[0;34m.\u001b[0m\u001b[0merrors\u001b[0m\u001b[0;34m)\u001b[0m\u001b[0;34m[\u001b[0m\u001b[0;36m0\u001b[0m\u001b[0;34m]\u001b[0m\u001b[0;34m\u001b[0m\u001b[0;34m\u001b[0m\u001b[0m\n\u001b[0m\u001b[1;32m     27\u001b[0m \u001b[0;34m\u001b[0m\u001b[0m\n\u001b[1;32m     28\u001b[0m \u001b[0;32mclass\u001b[0m \u001b[0mStreamWriter\u001b[0m\u001b[0;34m(\u001b[0m\u001b[0mCodec\u001b[0m\u001b[0;34m,\u001b[0m\u001b[0mcodecs\u001b[0m\u001b[0;34m.\u001b[0m\u001b[0mStreamWriter\u001b[0m\u001b[0;34m)\u001b[0m\u001b[0;34m:\u001b[0m\u001b[0;34m\u001b[0m\u001b[0;34m\u001b[0m\u001b[0m\n",
      "\u001b[0;31mUnicodeDecodeError\u001b[0m: 'ascii' codec can't decode byte 0xc5 in position 6: ordinal not in range(128)"
     ]
    }
   ],
   "source": [
    "f = open('simple1.txt', \"r\", encoding=\"ascii\")\n",
    "f.read()"
   ]
  },
  {
   "cell_type": "markdown",
   "id": "8d5c291b",
   "metadata": {},
   "source": [
    "Przydatne linki:\n",
    "\n",
    "- https://docs.python.org/3/tutorial/inputoutput.html#reading-and-writing-files\n",
    "- https://docs.python.org/3/library/functions.html#open\n",
    "- https://docs.python.org/3/glossary.html#term-file-object\n"
   ]
  },
  {
   "cell_type": "markdown",
   "id": "ddbf5040",
   "metadata": {},
   "source": [
    "# 2. Zapisywanie do pliku"
   ]
  },
  {
   "cell_type": "markdown",
   "id": "bdc6c779",
   "metadata": {},
   "source": [
    "Do zapisu do pliku służy metoda `write`. \n",
    "UWAGA! Wartość podana do zapisu musi być napisem(stringiem)!"
   ]
  },
  {
   "cell_type": "markdown",
   "id": "3f9ec500",
   "metadata": {},
   "source": [
    "## 2.1. Tryb `write`"
   ]
  },
  {
   "cell_type": "code",
   "execution_count": 20,
   "id": "d7b69303",
   "metadata": {},
   "outputs": [
    {
     "data": {
      "text/plain": [
       "5"
      ]
     },
     "execution_count": 20,
     "metadata": {},
     "output_type": "execute_result"
    }
   ],
   "source": [
    "# Do pliku zapisujemy podany tekst:\n",
    "\n",
    "file2 = open('simple2.txt', \"w\")\n",
    "file2.write(\"Dane1\") # Metoda write zwraca nam liczbę zapisanych znaków"
   ]
  },
  {
   "cell_type": "code",
   "execution_count": 21,
   "id": "8db7a27f",
   "metadata": {},
   "outputs": [],
   "source": [
    "# Do pliku możemy również zapisać wiele linii jednocześnie,\n",
    "# Wykorzystujemy do tego listę napisów i metodę `writelines`:\n",
    " \n",
    "file3 = open('simple3.txt', \"w\")\n",
    "lines = ['Pierwsza\\n', 'Druga\\n', 'Trzecia\\n']\n",
    "file3.writelines(lines)"
   ]
  },
  {
   "cell_type": "code",
   "execution_count": 22,
   "id": "460e84f1",
   "metadata": {},
   "outputs": [],
   "source": [
    "# Możemy też zapisywać dane do pliku w postaci listy za pomocą pętli i metody `write`,\n",
    "# Spróbujmy zapisać do pliku wszystkie liczby parzyste < 100:\n",
    "\n",
    "even_number = list(range(100))[::2] # Chcemy co drugą wartość, więc wycinamy z krokiem 2    \n",
    "\n",
    "with open('numbers.txt', 'w') as file:\n",
    "    for number in even_number:\n",
    "        file.write(str(number) + '\\n')"
   ]
  },
  {
   "cell_type": "code",
   "execution_count": 23,
   "id": "af1eadd0",
   "metadata": {},
   "outputs": [],
   "source": [
    "# Drugi sposób:\n",
    "\n",
    "techs = ['python','java', 'go', 'scala'] # Każdy element zapisujemy w osobnej linii\n",
    "\n",
    "# Otwieramy plik (ew. tworzymy), następnie iterujemy listę i zapisujemy do pliku,\n",
    "# za pomocą funkcji `print()`:\n",
    "    \n",
    "with open('techs.txt', 'w') as file:\n",
    "    for tech in techs:\n",
    "        print(tech, file = file)\n",
    "    "
   ]
  },
  {
   "cell_type": "markdown",
   "id": "eb2b043f",
   "metadata": {},
   "source": [
    "## 2.2. Tryb `append`"
   ]
  },
  {
   "cell_type": "code",
   "execution_count": 24,
   "id": "1bf0cb6a",
   "metadata": {},
   "outputs": [],
   "source": [
    "# W trybie `w` dane w pliku zostają nadpisane, ale teraz chcemy dodać dane:\n",
    "# Plik techs.txt już istnieje:\n",
    "\n",
    "techs = ['cplusplus', 'c', 'csharp', 'r'] # każdy element zapisać w osobnej liniii\n",
    "\n",
    "with open('techs.txt', 'a') as file:\n",
    "    for tech in techs:\n",
    "        print(tech, file = file)\n",
    "        \n",
    "# trybem append 'a' dodajemy dane do pliku    "
   ]
  },
  {
   "cell_type": "code",
   "execution_count": null,
   "id": "b70de875",
   "metadata": {},
   "outputs": [],
   "source": []
  }
 ],
 "metadata": {
  "kernelspec": {
   "display_name": "Python 3 (ipykernel)",
   "language": "python",
   "name": "python3"
  },
  "language_info": {
   "codemirror_mode": {
    "name": "ipython",
    "version": 3
   },
   "file_extension": ".py",
   "mimetype": "text/x-python",
   "name": "python",
   "nbconvert_exporter": "python",
   "pygments_lexer": "ipython3",
   "version": "3.9.7"
  }
 },
 "nbformat": 4,
 "nbformat_minor": 5
}
