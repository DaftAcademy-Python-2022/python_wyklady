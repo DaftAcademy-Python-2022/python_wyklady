{
 "cells": [
  {
   "cell_type": "markdown",
   "metadata": {
    "slideshow": {
     "slide_type": "-"
    }
   },
   "source": [
    "# Testy\n",
    "\n",
    "### 08.12.2022, Python"
   ]
  },
  {
   "cell_type": "markdown",
   "metadata": {},
   "source": [
    "# 1. Metodologia testowania"
   ]
  },
  {
   "cell_type": "markdown",
   "metadata": {
    "slideshow": {
     "slide_type": "subslide"
    }
   },
   "source": [
    "## 1.1. Czym jest testowanie?"
   ]
  },
  {
   "cell_type": "markdown",
   "metadata": {
    "slideshow": {
     "slide_type": "fragment"
    }
   },
   "source": [
    "Testowanie to uruchamianie kodu naszego programu w celu sprawdzenia, czy robi to, co powinien."
   ]
  },
  {
   "cell_type": "markdown",
   "metadata": {
    "slideshow": {
     "slide_type": "subslide"
    }
   },
   "source": [
    "_Program testing can be used to show the presence of bugs, but never to show their absence!_\n",
    "\n",
    "Edsker D. Dijkstra (1970)"
   ]
  },
  {
   "cell_type": "markdown",
   "metadata": {},
   "source": [
    "Dwie najpopularniejsze biblioteki do testowania w Pythonie - `unittest` i `pytest`."
   ]
  },
  {
   "cell_type": "markdown",
   "metadata": {
    "slideshow": {
     "slide_type": "subslide"
    }
   },
   "source": [
    "## 1.2. Dlaczego testujemy?"
   ]
  },
  {
   "cell_type": "markdown",
   "metadata": {
    "slideshow": {
     "slide_type": "fragment"
    }
   },
   "source": [
    "Testujemy, bo:\n",
    "\n",
    "- Testowanie pozwala upewnić się, że w wybranych przez nas warunkach wszystko działa tak jak chcemy\n",
    "- Testowanie zmniejsza strach przed zmianami\n",
    "- Testowanie jest łatwiejsze niż debugowanie!"
   ]
  },
  {
   "cell_type": "markdown",
   "metadata": {},
   "source": [
    "## 1.3. Sposoby testowania"
   ]
  },
  {
   "cell_type": "markdown",
   "metadata": {},
   "source": [
    "Możemy podzielić sposoby testowania na:\n",
    "\n",
    "- Manualne i automatyczne\n",
    "- Jednostkowe i integracyjne\n",
    "- Blackboxowe i whiteboxowe\n",
    "- Systemowe i akceptacyjne"
   ]
  },
  {
   "cell_type": "markdown",
   "metadata": {},
   "source": [
    "### Testy manualne\n",
    "\n",
    "Testy manualne wykonujemy uruchamiając naszą aplikację i postępując zgodnie ze scenariuszem - sprawdzamy, czy funkcjonalności działają prawidłowo. Takie podejście sprawdza się dla niewielkich aplikacji, które wymagają niewielu testów."
   ]
  },
  {
   "cell_type": "markdown",
   "metadata": {
    "slideshow": {
     "slide_type": "fragment"
    }
   },
   "source": [
    "### Testy automatyczne\n",
    "\n",
    "Gdy trzeba przeprowadzić więcej testów, warto napisać skrypty automatyzujące scenariusze testowe. Testy automatyczne:\n",
    "\n",
    "- To dodatkowe fragmenty programu, które uruchamiają nasz główny kod, a następnie porównują wyniki z oczekiwaniami\n",
    "- Są szybkie do uruchomienia\n",
    "- Są powtarzalne\n",
    "- Wszyscy z zespołu są w stanie powtórzyć test"
   ]
  },
  {
   "cell_type": "markdown",
   "metadata": {
    "slideshow": {
     "slide_type": "fragment"
    }
   },
   "source": [
    "### Testy jednostkowe\n",
    "\n",
    "Testy jednostkowe testują pojedyncze funkcjonalności aplikacji. Taki rodzaj testów sprawdza się np. w podejściu TDD. Testy jednostkowe:\n",
    "\n",
    "- Zwane też modułowymi\n",
    "- Testują funkcjonalność pojedynczych metod, klas, modułów\n",
    "- W projekcie jest ich zazwyczaj najwięcej"
   ]
  },
  {
   "cell_type": "markdown",
   "metadata": {
    "slideshow": {
     "slide_type": "fragment"
    }
   },
   "source": [
    "### Testy integracyjne\n",
    "\n",
    "Jeżeli w teście chcemy sprawdzić działanie kilku funkcjonalności i tego, jak ze sobą współdziałają, to przeprowadzamy testy integracyjne. Testy integracyjne:\n",
    "\n",
    "- Testują zależności pomiędzy modułami\n",
    "- Wprowadzają scenariusz testów, który w ramach jednego testu integracyjnego uruchamia wiele testów jednostkowych\n",
    "- Testują konkretne przypadki użycia programu\n",
    "- W projekcie jest ich zazwyczaj znacznie mniej niż testów jednostkowych"
   ]
  },
  {
   "cell_type": "markdown",
   "metadata": {},
   "source": [
    "### Testy białej i czarnej skrzynki\n",
    "\n",
    "Testy whitebox i blackbox występują w zależności od tego, czy są one przeprowadzone na kodzie czy na interfejsie aplikacji. W testach **czarnej skrzynki** skupiamy się na tym, czy program działa poprawnie. W testach **białej skrzynki** skupiamy się na tym, w jaki sposób to robi."
   ]
  },
  {
   "cell_type": "markdown",
   "metadata": {
    "slideshow": {
     "slide_type": "fragment"
    }
   },
   "source": [
    "### Testy systemowe i akceptacyjne\n",
    "\n",
    "**Testy systemowe** analizują cały zintegrowany system. Dzięki nim możliwa jest ocena działania kompletnego systemu w kontekście wymagań biznesowych, technicznych, funkcjonalnych oraz dotyczących architektury oprogramowania. Testy systemowe przeprowadzane są w środowisku zbliżonym do produkcyjnego:\n",
    "\n",
    "- Mają na celu sprawdzenie działania programu w danym środowisku\n",
    "- Sprawdzają poprawność działania w danej architekturze (też i wirtualnej)\n",
    "\n",
    "Na poziomie **testów akceptacyjnych** system badany jest pod kątem realizacji wymagań klienta:\n",
    "\n",
    "- Raczej nie testy automatyczne\n",
    "- Sprawdzają poziom satysfakcji z działania programu\n",
    "- Sprawdzają konkretne przypadki użycia"
   ]
  },
  {
   "cell_type": "markdown",
   "metadata": {
    "slideshow": {
     "slide_type": "fragment"
    }
   },
   "source": [
    "### Podejście do testowania projektu\n",
    "\n",
    "W języku Python zazwyczaj piszemy 2 typy testów:\n",
    "\n",
    "- Jednostkowe\n",
    "- Integracyjne\n",
    "\n",
    "**Jaki rodzaj testów wybrać?**\n",
    "\n",
    "Najlepszym rozwiązaniem jest postawienie na połączenie testowania automatycznego z manualnym na różnym poziomie. Usprawni to cały proces i zagwarantuje wysoką skuteczność wyłapywania błędów."
   ]
  },
  {
   "cell_type": "markdown",
   "metadata": {
    "slideshow": {
     "slide_type": "subslide"
    }
   },
   "source": [
    "## 1.4. Izolacja testów"
   ]
  },
  {
   "cell_type": "markdown",
   "metadata": {
    "slideshow": {
     "slide_type": "fragment"
    }
   },
   "source": [
    "Izolacja testów jest powszechną i dobrą praktyką.\n",
    "\n",
    "- Testy nie powinny mieć wpływu na siebie nawzajem\n",
    "- Błąd w jednym teście nie przerywa wykonania pozostałych testów\n",
    "- Każdy test powinien przejść zarówno uruchomiony pojedynczo, jak i w grupie\n",
    "- Testy powinny być na tyle izolowane, że mogą przejść w dowolnej kolejności"
   ]
  },
  {
   "cell_type": "markdown",
   "metadata": {
    "slideshow": {
     "slide_type": "slide"
    }
   },
   "source": [
    "## 1.5 . Dobre testy"
   ]
  },
  {
   "cell_type": "markdown",
   "metadata": {
    "slideshow": {
     "slide_type": "fragment"
    }
   },
   "source": [
    "Jeszcze więcej dobrych praktyk - nasze testy powinny być:\n",
    "\n",
    "- Szybkie\n",
    "- Zautomatyzowane\n",
    "- Przewidywalne\n",
    "- Dające dobrą informację zwrotną\n",
    "- Skupiające się na jednym aspekcie na raz\n",
    "- Dobrze izolowane\n",
    "- Przemyślane i zadbane"
   ]
  },
  {
   "cell_type": "markdown",
   "metadata": {
    "slideshow": {
     "slide_type": "slide"
    }
   },
   "source": [
    "## 1.6. Podejście Test Driven Development (TDD)"
   ]
  },
  {
   "cell_type": "markdown",
   "metadata": {
    "slideshow": {
     "slide_type": "fragment"
    }
   },
   "source": [
    "Test-Driven Development (TDD) jest techniką tworzenia oprogramowania, w której główną ideą jest w pierwszej kolejności pisanie testów do nieistniejącej funkcjonalności, a dopiero potem napisanie kodu implementującego tę funkcjonalność.\n",
    "\n",
    "**W Test-Driven Development testy piszemy zawsze przed implementacją.**\n",
    "\n",
    "TDD krok po kroku:\n",
    "\n",
    "1. Napisać nieprzechodzący test i uruchomić\n",
    "2. Zmienić kod w najłatwiejszy możliwy sposób, żeby test przeszedł\n",
    "3. Zrobić refactor\n",
    "4. Wróć do punktu 1 do momentu uzyskania satysfakcjonującego wyniku"
   ]
  },
  {
   "cell_type": "markdown",
   "metadata": {},
   "source": [
    "![kominukacja_http](https://www.bartoszchodyla.pl/wp-content/uploads/2020/09/tddScheme.png)"
   ]
  },
  {
   "cell_type": "markdown",
   "metadata": {},
   "source": [
    "# 2. Praca z wyjątkami"
   ]
  },
  {
   "cell_type": "markdown",
   "metadata": {},
   "source": [
    "Informacje o błędzie są dla nas pomocą i wsparciem. Logi błędów pomagają zdiagnozować problem i szybko go naprawić."
   ]
  },
  {
   "cell_type": "markdown",
   "metadata": {},
   "source": [
    "## 2.1. Wyjątki i ich wyłapywanie"
   ]
  },
  {
   "cell_type": "markdown",
   "metadata": {},
   "source": [
    "Typowe błędy w Pythonie na poziomie kodu:\n",
    "\n",
    "- `ZeroDivisionError`\n",
    "- `TypeError`  \n",
    "- `ValueError`"
   ]
  },
  {
   "cell_type": "code",
   "execution_count": 1,
   "metadata": {},
   "outputs": [
    {
     "ename": "ZeroDivisionError",
     "evalue": "division by zero",
     "output_type": "error",
     "traceback": [
      "\u001b[0;31m---------------------------------------------------------------------------\u001b[0m",
      "\u001b[0;31mZeroDivisionError\u001b[0m                         Traceback (most recent call last)",
      "\u001b[0;32m/var/folders/vp/nz2438p55y1887kk536xrnjc0000gn/T/ipykernel_58679/376214142.py\u001b[0m in \u001b[0;36m<module>\u001b[0;34m\u001b[0m\n\u001b[1;32m      1\u001b[0m \u001b[0;31m# Przykład 1:\u001b[0m\u001b[0;34m\u001b[0m\u001b[0;34m\u001b[0m\u001b[0m\n\u001b[1;32m      2\u001b[0m \u001b[0;34m\u001b[0m\u001b[0m\n\u001b[0;32m----> 3\u001b[0;31m \u001b[0mblad1\u001b[0m \u001b[0;34m=\u001b[0m \u001b[0;36m5\u001b[0m \u001b[0;34m/\u001b[0m \u001b[0;36m0\u001b[0m\u001b[0;34m\u001b[0m\u001b[0;34m\u001b[0m\u001b[0m\n\u001b[0m",
      "\u001b[0;31mZeroDivisionError\u001b[0m: division by zero"
     ]
    }
   ],
   "source": [
    "# Przykład 1:\n",
    "\n",
    "blad1 = 5 / 0"
   ]
  },
  {
   "cell_type": "code",
   "execution_count": 2,
   "metadata": {},
   "outputs": [
    {
     "ename": "TypeError",
     "evalue": "unsupported operand type(s) for +: 'int' and 'str'",
     "output_type": "error",
     "traceback": [
      "\u001b[0;31m---------------------------------------------------------------------------\u001b[0m",
      "\u001b[0;31mTypeError\u001b[0m                                 Traceback (most recent call last)",
      "\u001b[0;32m/var/folders/vp/nz2438p55y1887kk536xrnjc0000gn/T/ipykernel_58679/4272190422.py\u001b[0m in \u001b[0;36m<module>\u001b[0;34m\u001b[0m\n\u001b[1;32m      1\u001b[0m \u001b[0;31m# Przykład 2:\u001b[0m\u001b[0;34m\u001b[0m\u001b[0;34m\u001b[0m\u001b[0m\n\u001b[1;32m      2\u001b[0m \u001b[0;34m\u001b[0m\u001b[0m\n\u001b[0;32m----> 3\u001b[0;31m \u001b[0mblad2\u001b[0m \u001b[0;34m=\u001b[0m \u001b[0;36m5\u001b[0m \u001b[0;34m+\u001b[0m \u001b[0;34m'5'\u001b[0m\u001b[0;34m\u001b[0m\u001b[0;34m\u001b[0m\u001b[0m\n\u001b[0m",
      "\u001b[0;31mTypeError\u001b[0m: unsupported operand type(s) for +: 'int' and 'str'"
     ]
    }
   ],
   "source": [
    "# Przykład 2: \n",
    "\n",
    "blad2 = 5 + '5'"
   ]
  },
  {
   "cell_type": "code",
   "execution_count": 3,
   "metadata": {},
   "outputs": [
    {
     "ename": "ValueError",
     "evalue": "invalid literal for int() with base 10: 'błąd'",
     "output_type": "error",
     "traceback": [
      "\u001b[0;31m---------------------------------------------------------------------------\u001b[0m",
      "\u001b[0;31mValueError\u001b[0m                                Traceback (most recent call last)",
      "\u001b[0;32m/var/folders/vp/nz2438p55y1887kk536xrnjc0000gn/T/ipykernel_58679/873636192.py\u001b[0m in \u001b[0;36m<module>\u001b[0;34m\u001b[0m\n\u001b[1;32m      1\u001b[0m \u001b[0;31m# Przykład 3:\u001b[0m\u001b[0;34m\u001b[0m\u001b[0;34m\u001b[0m\u001b[0m\n\u001b[1;32m      2\u001b[0m \u001b[0;34m\u001b[0m\u001b[0m\n\u001b[0;32m----> 3\u001b[0;31m \u001b[0mblad3\u001b[0m \u001b[0;34m=\u001b[0m \u001b[0mint\u001b[0m\u001b[0;34m(\u001b[0m\u001b[0;34m'błąd'\u001b[0m\u001b[0;34m)\u001b[0m \u001b[0;31m# Python podniesie błąd\u001b[0m\u001b[0;34m\u001b[0m\u001b[0;34m\u001b[0m\u001b[0m\n\u001b[0m\u001b[1;32m      4\u001b[0m \u001b[0;34m\u001b[0m\u001b[0m\n\u001b[1;32m      5\u001b[0m \u001b[0;31m#int('1.5') # Python podniesie błąd\u001b[0m\u001b[0;34m\u001b[0m\u001b[0;34m\u001b[0m\u001b[0m\n",
      "\u001b[0;31mValueError\u001b[0m: invalid literal for int() with base 10: 'błąd'"
     ]
    }
   ],
   "source": [
    "# Przykład 3: \n",
    "\n",
    "blad3 = int('błąd') # Python podniesie błąd\n",
    "\n",
    "#int('1.5') # Python podniesie błąd \n",
    "#int(1.5) # Ok\n",
    "#float('sd') # Python podniesie błąd \n",
    "#float(1.5) # Ok"
   ]
  },
  {
   "cell_type": "markdown",
   "metadata": {},
   "source": [
    "## 2.2. Wyrażenie `try-except`"
   ]
  },
  {
   "cell_type": "markdown",
   "metadata": {},
   "source": [
    "Wyrażenie `try-except` jest stosowane do standardowej kontroli błędów. Struktura wygląda następująco:\n",
    "\n",
    "`try:\n",
    "     kod, który chcemy uruchomić (z wcięciem - 4 spacje)\n",
    " except:\n",
    "     fragment kodu, który wyrażenie except pozwala wykonać w przypadku napotkania błędu (z wcięciem - 4 spacje)`"
   ]
  },
  {
   "cell_type": "code",
   "execution_count": 4,
   "metadata": {},
   "outputs": [
    {
     "name": "stdout",
     "output_type": "stream",
     "text": [
      "Nie dzielimy przez zero!\n"
     ]
    }
   ],
   "source": [
    "# Przykład 1a:\n",
    "\n",
    "try:\n",
    "    5/0\n",
    "except:\n",
    "    print(\"Nie dzielimy przez zero!\") # Python nie podniesie błędu, tylko dostaniemy informację"
   ]
  },
  {
   "cell_type": "code",
   "execution_count": 5,
   "metadata": {},
   "outputs": [
    {
     "name": "stdout",
     "output_type": "stream",
     "text": [
      "Nie dzielimy przez zero!\n"
     ]
    }
   ],
   "source": [
    "# Przykad 1b:\n",
    "\n",
    "try:\n",
    "    5/0 \n",
    "except ZeroDivisionError:\n",
    "    print('Nie dzielimy przez zero!')"
   ]
  },
  {
   "cell_type": "code",
   "execution_count": 6,
   "metadata": {},
   "outputs": [
    {
     "name": "stdout",
     "output_type": "stream",
     "text": [
      "Nie dzielimy przez zero!\n"
     ]
    }
   ],
   "source": [
    "# Przykład 2:\n",
    "\n",
    "try:\n",
    "    5/0 \n",
    "except ZeroDivisionError: \n",
    "    print('Nie dzielimy przez zero!')\n",
    "except TypeError: \n",
    "    print('Zły typ!')"
   ]
  },
  {
   "cell_type": "code",
   "execution_count": 9,
   "metadata": {},
   "outputs": [
    {
     "name": "stdout",
     "output_type": "stream",
     "text": [
      "Podaj liczbę: 5\n"
     ]
    }
   ],
   "source": [
    "# Przykład 3:\n",
    "\n",
    "while True:\n",
    "    try: \n",
    "        x = int(input(\"Podaj liczbę: \"))\n",
    "        break \n",
    "    except ValueError: \n",
    "        print(\"Niepoprawna wartość!\") "
   ]
  },
  {
   "cell_type": "code",
   "execution_count": 11,
   "metadata": {},
   "outputs": [
    {
     "name": "stdout",
     "output_type": "stream",
     "text": [
      "Plik nie został znaleziony!\n"
     ]
    }
   ],
   "source": [
    "# Przykład 4:\n",
    "\n",
    "try: \n",
    "    with open ('testujemy.txt', 'r') as file:\n",
    "        for line in file:\n",
    "            print(line)\n",
    "except FileNotFoundError:\n",
    "    print(\"Plik nie został znaleziony!\")"
   ]
  },
  {
   "cell_type": "code",
   "execution_count": 12,
   "metadata": {},
   "outputs": [
    {
     "name": "stdout",
     "output_type": "stream",
     "text": [
      "Dzielenie przez 0 jest zabronione!\n"
     ]
    }
   ],
   "source": [
    "# Przykład 5:\n",
    "\n",
    "def division(x, y):\n",
    "    try: \n",
    "        return x / y\n",
    "    except ZeroDivisionError: \n",
    "        print(\"Dzielenie przez 0 jest zabronione!\")\n",
    "    except TypeError: \n",
    "        print(\"Złe wartości!\")\n",
    "\n",
    "division(5,0)\n",
    "#division('1', '2')        "
   ]
  },
  {
   "cell_type": "markdown",
   "metadata": {},
   "source": [
    "## 2.3. Podnoszenie wyjątku (rzucanie wyjątkiem)"
   ]
  },
  {
   "cell_type": "markdown",
   "metadata": {},
   "source": [
    "Na samodzielne podnoszenie błędu różnego typu pozwala `raise`."
   ]
  },
  {
   "cell_type": "code",
   "execution_count": 13,
   "metadata": {},
   "outputs": [
    {
     "ename": "TypeError",
     "evalue": "Błąd!",
     "output_type": "error",
     "traceback": [
      "\u001b[0;31m---------------------------------------------------------------------------\u001b[0m",
      "\u001b[0;31mTypeError\u001b[0m                                 Traceback (most recent call last)",
      "\u001b[0;32m/var/folders/vp/nz2438p55y1887kk536xrnjc0000gn/T/ipykernel_58679/3136529859.py\u001b[0m in \u001b[0;36m<module>\u001b[0;34m\u001b[0m\n\u001b[0;32m----> 1\u001b[0;31m \u001b[0;32mraise\u001b[0m \u001b[0mTypeError\u001b[0m\u001b[0;34m(\u001b[0m\u001b[0;34m'Błąd!'\u001b[0m\u001b[0;34m)\u001b[0m\u001b[0;34m\u001b[0m\u001b[0;34m\u001b[0m\u001b[0m\n\u001b[0m",
      "\u001b[0;31mTypeError\u001b[0m: Błąd!"
     ]
    }
   ],
   "source": [
    "raise TypeError('Błąd!') "
   ]
  },
  {
   "cell_type": "markdown",
   "metadata": {},
   "source": [
    "# 3. Testy z pakietem `unittest`"
   ]
  },
  {
   "cell_type": "markdown",
   "metadata": {},
   "source": [
    "## 3.1. Wyrażenie `assert`"
   ]
  },
  {
   "cell_type": "markdown",
   "metadata": {},
   "source": [
    "Przy diagnozowaniu błędów może nam pomóc wyrażenie `assert`: \n",
    "\n",
    "`assert warunek logiczny, jaki chcemy przetestować`\n",
    "\n",
    "\n",
    "- `assert` jest częścią składni, słowem kluczowym Pythona, nie funkcją\n",
    "- Jego wywołanie zwraca `None`, jeśli wynik operacji poprzedzony assertem rzutuje się na prawdę logiczną\n",
    "- Jeśli wynik wywołania jest `False`, rzucany jest wyjątek `AssertionError`\n",
    "- Nie zaleca się umieszczać `assert` w kodzie wykonywanego programu, a jedynie w module testowym\n",
    "- Można globalnie wyłączyć zdolność asserów do rzucania wyjątkiem dla projektu w trakcie jego uruchamiania:\n",
    "       `python -O <file.py>` włącza __basic optimizations__\n",
    "       `python -OO <file.py>` dodatkowo ucinka Doc Stringi dla szybszego przetwarzania i min rozmiaru bytecodu\n",
    "- `assert` przyjmuje komentarze dla lepszego raportowania o błędzie:\n",
    "\n",
    "  `assert sth == sth, \"comment\"`"
   ]
  },
  {
   "cell_type": "code",
   "execution_count": 14,
   "metadata": {},
   "outputs": [
    {
     "ename": "AssertionError",
     "evalue": "",
     "output_type": "error",
     "traceback": [
      "\u001b[0;31m---------------------------------------------------------------------------\u001b[0m",
      "\u001b[0;31mAssertionError\u001b[0m                            Traceback (most recent call last)",
      "\u001b[0;32m/var/folders/vp/nz2438p55y1887kk536xrnjc0000gn/T/ipykernel_58679/3033142767.py\u001b[0m in \u001b[0;36m<module>\u001b[0;34m\u001b[0m\n\u001b[1;32m      1\u001b[0m \u001b[0;31m#assert 10==10\u001b[0m\u001b[0;34m\u001b[0m\u001b[0;34m\u001b[0m\u001b[0m\n\u001b[0;32m----> 2\u001b[0;31m \u001b[0;32massert\u001b[0m \u001b[0;36m10\u001b[0m\u001b[0;34m==\u001b[0m\u001b[0;36m2\u001b[0m\u001b[0;34m\u001b[0m\u001b[0;34m\u001b[0m\u001b[0m\n\u001b[0m",
      "\u001b[0;31mAssertionError\u001b[0m: "
     ]
    }
   ],
   "source": [
    "#assert 10==10 \n",
    "assert 10==2 "
   ]
  },
  {
   "cell_type": "markdown",
   "metadata": {},
   "source": [
    "Wyrażenie `assert` podnosi się dopiero wtedy, gdy napotka błąd - jest to dla nas dodatkowa kontrola, jesli możemy coś zrobić źle."
   ]
  },
  {
   "cell_type": "code",
   "execution_count": 15,
   "metadata": {},
   "outputs": [],
   "source": [
    "# Przykład 1a:\n",
    "\n",
    "def test_sum():\n",
    "    assert sum([1, 2, 3]) == 6\n",
    "    \n",
    "test_sum()"
   ]
  },
  {
   "cell_type": "code",
   "execution_count": 16,
   "metadata": {},
   "outputs": [
    {
     "ename": "AssertionError",
     "evalue": "Powinno być 6",
     "output_type": "error",
     "traceback": [
      "\u001b[0;31m---------------------------------------------------------------------------\u001b[0m",
      "\u001b[0;31mAssertionError\u001b[0m                            Traceback (most recent call last)",
      "\u001b[0;32m/var/folders/vp/nz2438p55y1887kk536xrnjc0000gn/T/ipykernel_58679/516850929.py\u001b[0m in \u001b[0;36m<module>\u001b[0;34m\u001b[0m\n\u001b[1;32m     13\u001b[0m \u001b[0;34m\u001b[0m\u001b[0m\n\u001b[1;32m     14\u001b[0m \u001b[0;32mif\u001b[0m \u001b[0m__name__\u001b[0m \u001b[0;34m==\u001b[0m \u001b[0;34m'__main__'\u001b[0m\u001b[0;34m:\u001b[0m\u001b[0;34m\u001b[0m\u001b[0;34m\u001b[0m\u001b[0m\n\u001b[0;32m---> 15\u001b[0;31m     \u001b[0mtest_sum\u001b[0m\u001b[0;34m(\u001b[0m\u001b[0;34m)\u001b[0m\u001b[0;34m\u001b[0m\u001b[0;34m\u001b[0m\u001b[0m\n\u001b[0m\u001b[1;32m     16\u001b[0m     \u001b[0mtest_min\u001b[0m\u001b[0;34m(\u001b[0m\u001b[0;34m)\u001b[0m\u001b[0;34m\u001b[0m\u001b[0;34m\u001b[0m\u001b[0m\n\u001b[1;32m     17\u001b[0m     \u001b[0mprint\u001b[0m\u001b[0;34m(\u001b[0m\u001b[0;34m'Wszystko ok.'\u001b[0m\u001b[0;34m)\u001b[0m\u001b[0;34m\u001b[0m\u001b[0;34m\u001b[0m\u001b[0m\n",
      "\u001b[0;32m/var/folders/vp/nz2438p55y1887kk536xrnjc0000gn/T/ipykernel_58679/516850929.py\u001b[0m in \u001b[0;36mtest_sum\u001b[0;34m()\u001b[0m\n\u001b[1;32m      2\u001b[0m \u001b[0;34m\u001b[0m\u001b[0m\n\u001b[1;32m      3\u001b[0m \u001b[0;32mdef\u001b[0m \u001b[0mtest_sum\u001b[0m\u001b[0;34m(\u001b[0m\u001b[0;34m)\u001b[0m\u001b[0;34m:\u001b[0m\u001b[0;34m\u001b[0m\u001b[0;34m\u001b[0m\u001b[0m\n\u001b[0;32m----> 4\u001b[0;31m     \u001b[0;32massert\u001b[0m \u001b[0msum\u001b[0m\u001b[0;34m(\u001b[0m\u001b[0;34m[\u001b[0m\u001b[0;36m1\u001b[0m\u001b[0;34m,\u001b[0m \u001b[0;36m2\u001b[0m\u001b[0;34m,\u001b[0m \u001b[0;36m3\u001b[0m\u001b[0;34m]\u001b[0m\u001b[0;34m)\u001b[0m \u001b[0;34m==\u001b[0m \u001b[0;36m7\u001b[0m\u001b[0;34m,\u001b[0m \u001b[0;34m'Powinno być 6'\u001b[0m\u001b[0;34m\u001b[0m\u001b[0;34m\u001b[0m\u001b[0m\n\u001b[0m\u001b[1;32m      5\u001b[0m \u001b[0;34m\u001b[0m\u001b[0m\n\u001b[1;32m      6\u001b[0m \u001b[0;31m# Przykład 2:\u001b[0m\u001b[0;34m\u001b[0m\u001b[0;34m\u001b[0m\u001b[0m\n",
      "\u001b[0;31mAssertionError\u001b[0m: Powinno być 6"
     ]
    }
   ],
   "source": [
    "# Przykład 1b:\n",
    "\n",
    "def test_sum():\n",
    "    assert sum([1, 2, 3]) == 7, 'Powinno być 6'\n",
    "\n",
    "# Przykład 2:\n",
    "\n",
    "def test_min():\n",
    "    assert min([1, 2, 3]) == 1, \"Powinno być 1\"  \n",
    "    \n",
    "\n",
    "# Wywołanie funkcji testowych\n",
    "\n",
    "if __name__ == '__main__':\n",
    "    test_sum()\n",
    "    test_min() \n",
    "    print('Wszystko ok.')"
   ]
  },
  {
   "cell_type": "markdown",
   "metadata": {},
   "source": [
    "## 3.2. Testy jednostkowe `unittest`"
   ]
  },
  {
   "cell_type": "markdown",
   "metadata": {},
   "source": [
    "W Python mamy wbudowany pakiet `unittest`, który pozwala nam przeprowadzać testy jednostkowe. Testy jednostkowe to testy, które pozwalają testować tworzone oprogramowane przez wykonywanie testów weryfikujących poprawność działania pojedynczych elementów tzw. jednostek programów. \n",
    "\n",
    "- Umieszczony w bibliotece standardowej `python` nie wymaga żadnych dodatkowych zależności\n",
    "- Pozwala tworzyć pełne scenariusze testowe\n",
    "- Pozwala organizować kod testów w klasy\n",
    "- Rozbudowane opcje różnych asercji\n",
    "\n",
    "https://docs.python.org/3/library/unittest.html"
   ]
  },
  {
   "cell_type": "markdown",
   "metadata": {},
   "source": [
    "Pisane testu jednostkowego krok po kroku:\n",
    "\n",
    "1. Zaimportowanie pakietu `unittest`\n",
    "2. Zdefiniowanie funkcji do przetestowania\n",
    "3. Stworzenie przypadku testowego używając klasy `unittest.TestCase`    \n",
    "4. Zdefiniowanie testu jako metody klasy `TestCase` \n",
    "5. Call `assert function` - wywoływanie funkcji\n",
    "6. `Assert function` wywola błąd `assertionError` jeżeli otrzymamy błąd - funkcje `assert` będą podnosić błędy , pakiet unittest będzie te błędy również liczył\n",
    "7. Wywołaj funkcje `main()` z modułu `unittest` "
   ]
  },
  {
   "cell_type": "code",
   "execution_count": 18,
   "metadata": {},
   "outputs": [
    {
     "name": "stderr",
     "output_type": "stream",
     "text": [
      ".\n",
      "----------------------------------------------------------------------\n",
      "Ran 1 test in 0.001s\n",
      "\n",
      "OK\n"
     ]
    }
   ],
   "source": [
    "# Przykład 1a:\n",
    "\n",
    "import unittest # Krok 1\n",
    "\n",
    "# Krok 2\n",
    "\n",
    "def add(x, y):\n",
    "    return x + y\n",
    "\n",
    "\n",
    "# Krok 3  \n",
    "class FirstTest(unittest.TestCase):\n",
    "    \n",
    "    \n",
    "    # Krok 4, 5, 6\n",
    "    def test_add(self): \n",
    "        self.assertEqual(add(3, 4), 7, msg='Powinno być 7.')\n",
    "        \n",
    "        \n",
    "# Krok 7        \n",
    "if __name__ == '__main__':\n",
    "    unittest.main(argv=['first-arg-is-ignored'], exit=False)"
   ]
  },
  {
   "cell_type": "code",
   "execution_count": 22,
   "metadata": {},
   "outputs": [
    {
     "name": "stderr",
     "output_type": "stream",
     "text": [
      "FF\n",
      "======================================================================\n",
      "FAIL: test_add (__main__.FirstTest)\n",
      "----------------------------------------------------------------------\n",
      "Traceback (most recent call last):\n",
      "  File \"/var/folders/vp/nz2438p55y1887kk536xrnjc0000gn/T/ipykernel_58679/1886143078.py\", line 17, in test_add\n",
      "    self.assertEqual(add(3, 4), 7, msg='Powinno być 7.')\n",
      "AssertionError: 17 != 7 : Powinno być 7.\n",
      "\n",
      "======================================================================\n",
      "FAIL: test_add (__main__.SecondTest)\n",
      "----------------------------------------------------------------------\n",
      "Traceback (most recent call last):\n",
      "  File \"/var/folders/vp/nz2438p55y1887kk536xrnjc0000gn/T/ipykernel_58679/837103982.py\", line 11, in test_add\n",
      "    self.assertEqual(add(3, 4), 7, msg='Powinno być 7.')\n",
      "AssertionError: 17 != 7 : Powinno być 7.\n",
      "\n",
      "----------------------------------------------------------------------\n",
      "Ran 2 tests in 0.002s\n",
      "\n",
      "FAILED (failures=2)\n"
     ]
    }
   ],
   "source": [
    "# Przykład 1b:\n",
    "\n",
    "import unittest \n",
    "\n",
    "def add(x, y):\n",
    "    return x + y +10\n",
    "\n",
    "class SecondTest(unittest.TestCase):\n",
    "    \n",
    "    def test_add(self): \n",
    "        self.assertEqual(add(3, 4), 7, msg='Powinno być 7.')\n",
    "               \n",
    "if __name__ == '__main__':\n",
    "    unittest.main(argv=['first-arg-is-ignored'], exit=False) \n"
   ]
  },
  {
   "cell_type": "markdown",
   "metadata": {},
   "source": [
    "## 3.3. Uruchomienie testów z terminala i wirtulane środowiska"
   ]
  },
  {
   "cell_type": "markdown",
   "metadata": {},
   "source": [
    "W praktyce częściej uruchamia się skrypty testowe dzięki takim programom, jak Powershell/bash z poziomu powłoki terminala:\n",
    "\n",
    "- wchodzimy przez terminal do katalogu, gdzie mamy nasze pliki z testami (z `.py`, nie `ipynb`!!!)\n",
    "- komenda `cat` możemy przed uruchomieniem pliku podejrzec jego zawartość: `cat test1.py`\n",
    "- komendą `python3 test1.py` odpalamy test \n",
    "- dostajemy info o przejściu testu/błędzie"
   ]
  },
  {
   "cell_type": "markdown",
   "metadata": {},
   "source": [
    "### Wirtualne środowisko Pythona `venv`"
   ]
  },
  {
   "cell_type": "markdown",
   "metadata": {},
   "source": [
    "W środowisku Pythona możemy mieć tylko jedną wersję danego pakietu, co może rodzić konflikty zależności:\n",
    "- np. pracujemy nad swoim projektem wykorzystującym najnowszą wersję pakietu A\n",
    "- i jednocześnie chcemy uruchomić projekt, w którym wymagana jest starsza wersja pakietu A.\n",
    "\n",
    "Na Linuksie i OSX Python jest używany przez system operacyjny. Pakiety (lub ich wersje), które doinstalujemy w głównym katalogu mogą zdestabilizować narzędzia systemowe...\n",
    "-  ...i odwrotnie, przy aktualizacji system może nam nadpisać wersje pakietów\n",
    "- możemy mieć problem z uporządkowaniem wymagań naszego projektu - a chcielibyśmy móc uruchomić go nie tylko na naszym komputerze"
   ]
  },
  {
   "cell_type": "markdown",
   "metadata": {},
   "source": [
    "Z pomocą przychodzą nam środowiaka wirtualne, które tworzą wyizolowaną z systemu operacyjnego przestrzeń dla naszego projektu. Zainstalowane narzędzia w takim folderze będą dostępne lokalnie tylko w nim, a nie globalnie w całym systemie, co pomaga uniknąć wspomnianych konfliktów i porządkuje projekt. \n",
    "\n",
    "Każdy programista Pythona prędzej czy później zacznie swoją pracę z wirtualnymi środowiskami - jest to jedna z dobrych praktyk.\n",
    "\n",
    "**Moduł `venv`**\n",
    "\n",
    "```console\n",
    "python -m venv [nazwa_enva]   # utworzy nowe środowisko w zadanym katalogu\n",
    "                              \n",
    "```\n",
    "\n",
    "```console\n",
    "source <venv>/bin/activate  # aktywuje środowisko, \n",
    "                            \n",
    "```\n",
    "\n",
    "```console\n",
    "pip install -r requirements.txt  # zainstaluje pakiety\n",
    "```\n",
    "\n",
    "```console\n",
    "deactivate  # zdeaktywuje środowisko\n",
    "```"
   ]
  },
  {
   "cell_type": "markdown",
   "metadata": {},
   "source": [
    "## 3.4. Metody asercji"
   ]
  },
  {
   "cell_type": "markdown",
   "metadata": {},
   "source": [
    "Metody asercji:\n",
    "\n",
    "- `assertEqual` - sprawdza, czy dwa elementy są równe, `assertEqual(firts, second, msg=None)`\n",
    "- `assertNotEqual` - sprawdza, czy dwa elementy nie są równe, `.asserNotEqual(firts, second, msg=None)`\n",
    "- `assertTrue` - sprawdza, czy wyrażenie/element jest prawdą, `.assertTrue(expr, msg=None)`\n",
    "- `assertFalse` - sprawdza, czy wyrażenie/element jest fałszem, `.assertFalse(expr, msg=None)`\n",
    "- `assertIn` - sprawdza przynaleźność (czy należy), `.assertIn(member, container, msg=None)`\n",
    "- `assertNotIn` - sprawdza przynależność (czy nie należy), `.assertNotIn(member, container, msg=None)`"
   ]
  },
  {
   "cell_type": "code",
   "execution_count": 23,
   "metadata": {},
   "outputs": [
    {
     "name": "stderr",
     "output_type": "stream",
     "text": [
      "FFF..\n",
      "======================================================================\n",
      "FAIL: test_add (__main__.FirstTest)\n",
      "----------------------------------------------------------------------\n",
      "Traceback (most recent call last):\n",
      "  File \"/var/folders/vp/nz2438p55y1887kk536xrnjc0000gn/T/ipykernel_58679/1886143078.py\", line 17, in test_add\n",
      "    self.assertEqual(add(3, 4), 7, msg='Powinno być 7.')\n",
      "AssertionError: 17 != 7 : Powinno być 7.\n",
      "\n",
      "======================================================================\n",
      "FAIL: test_add (__main__.SecondTest)\n",
      "----------------------------------------------------------------------\n",
      "Traceback (most recent call last):\n",
      "  File \"/var/folders/vp/nz2438p55y1887kk536xrnjc0000gn/T/ipykernel_58679/837103982.py\", line 11, in test_add\n",
      "    self.assertEqual(add(3, 4), 7, msg='Powinno być 7.')\n",
      "AssertionError: 17 != 7 : Powinno być 7.\n",
      "\n",
      "======================================================================\n",
      "FAIL: test_add (__main__.SimpleTest)\n",
      "----------------------------------------------------------------------\n",
      "Traceback (most recent call last):\n",
      "  File \"/var/folders/vp/nz2438p55y1887kk536xrnjc0000gn/T/ipykernel_58679/2149286351.py\", line 9, in test_add\n",
      "    self.assertEqual(3+7, 9)\n",
      "AssertionError: 10 != 9\n",
      "\n",
      "----------------------------------------------------------------------\n",
      "Ran 5 tests in 0.003s\n",
      "\n",
      "FAILED (failures=3)\n"
     ]
    }
   ],
   "source": [
    "# Przykład 1:\n",
    "\n",
    "import unittest\n",
    "\n",
    "\n",
    "class SimpleTest(unittest.TestCase):\n",
    "\n",
    "    def test_add(self): \n",
    "        self.assertEqual(3+7, 9)\n",
    "        \n",
    "    def test_true(self):\n",
    "        self.assertTrue(3 + 7 == 10) \n",
    "        \n",
    "    def test_in(self):\n",
    "        self.assertIn(3, [1, 2, 3, 4]) \n",
    "        \n",
    "        \n",
    "# uruchomienie unittest bezpośrednio:        \n",
    "if __name__ == '__main__':\n",
    "    unittest.main(argv=['first-arg-is-ignored'], exit=False)  "
   ]
  },
  {
   "cell_type": "markdown",
   "metadata": {},
   "source": [
    "Metody asercji dotyczące struktur danych:\n",
    "\n",
    "- `assertListEqual` - sprawdza czy dwie listy są równe, `.assertListEqual(list1, list2, msg=None)`\n",
    "- `assertTupleEqual` - sprawdza czy dwie tuple sa równe, `.assertTupleEqual(tuple1, tuple2, msg=None)`\n",
    "- `assertSetEqual` - sprawdza czy dwa zbiory sa równe, `.assertSetEqual(set1, set2, msg=None)`\n",
    "- `assertDictEqual` - sprawdza czy dwa słowniki sa równe, `.assertDictEqual(d1, d2, msg=None)`\n",
    "  "
   ]
  },
  {
   "cell_type": "code",
   "execution_count": 24,
   "metadata": {},
   "outputs": [
    {
     "name": "stderr",
     "output_type": "stream",
     "text": [
      "FFFFF..\n",
      "======================================================================\n",
      "FAIL: test_dict (__main__.DataStructureTest)\n",
      "----------------------------------------------------------------------\n",
      "Traceback (most recent call last):\n",
      "  File \"/var/folders/vp/nz2438p55y1887kk536xrnjc0000gn/T/ipykernel_58679/2543745778.py\", line 11, in test_dict\n",
      "    self.assertDictEqual({'a' : 1, 'b' : 2}, {'a' : 1, 'c' : 2})\n",
      "AssertionError: {'a': 1, 'b': 2} != {'a': 1, 'c': 2}\n",
      "- {'a': 1, 'b': 2}\n",
      "?           ^\n",
      "\n",
      "+ {'a': 1, 'c': 2}\n",
      "?           ^\n",
      "\n",
      "\n",
      "======================================================================\n",
      "FAIL: test_list (__main__.DataStructureTest)\n",
      "----------------------------------------------------------------------\n",
      "Traceback (most recent call last):\n",
      "  File \"/var/folders/vp/nz2438p55y1887kk536xrnjc0000gn/T/ipykernel_58679/2543745778.py\", line 8, in test_list\n",
      "    self.assertListEqual([1, 2, 5], [1, 2, 3])\n",
      "AssertionError: Lists differ: [1, 2, 5] != [1, 2, 3]\n",
      "\n",
      "First differing element 2:\n",
      "5\n",
      "3\n",
      "\n",
      "- [1, 2, 5]\n",
      "?        ^\n",
      "\n",
      "+ [1, 2, 3]\n",
      "?        ^\n",
      "\n",
      "\n",
      "======================================================================\n",
      "FAIL: test_add (__main__.FirstTest)\n",
      "----------------------------------------------------------------------\n",
      "Traceback (most recent call last):\n",
      "  File \"/var/folders/vp/nz2438p55y1887kk536xrnjc0000gn/T/ipykernel_58679/1886143078.py\", line 17, in test_add\n",
      "    self.assertEqual(add(3, 4), 7, msg='Powinno być 7.')\n",
      "AssertionError: 17 != 7 : Powinno być 7.\n",
      "\n",
      "======================================================================\n",
      "FAIL: test_add (__main__.SecondTest)\n",
      "----------------------------------------------------------------------\n",
      "Traceback (most recent call last):\n",
      "  File \"/var/folders/vp/nz2438p55y1887kk536xrnjc0000gn/T/ipykernel_58679/837103982.py\", line 11, in test_add\n",
      "    self.assertEqual(add(3, 4), 7, msg='Powinno być 7.')\n",
      "AssertionError: 17 != 7 : Powinno być 7.\n",
      "\n",
      "======================================================================\n",
      "FAIL: test_add (__main__.SimpleTest)\n",
      "----------------------------------------------------------------------\n",
      "Traceback (most recent call last):\n",
      "  File \"/var/folders/vp/nz2438p55y1887kk536xrnjc0000gn/T/ipykernel_58679/2149286351.py\", line 9, in test_add\n",
      "    self.assertEqual(3+7, 9)\n",
      "AssertionError: 10 != 9\n",
      "\n",
      "----------------------------------------------------------------------\n",
      "Ran 7 tests in 0.006s\n",
      "\n",
      "FAILED (failures=5)\n"
     ]
    }
   ],
   "source": [
    "# Przykład 2:\n",
    "\n",
    "import unittest\n",
    "\n",
    "class DataStructureTest(unittest.TestCase):\n",
    "    \n",
    "    def test_list(self):\n",
    "        self.assertListEqual([1, 2, 5], [1, 2, 3])\n",
    "        \n",
    "    def test_dict(self):\n",
    "        self.assertDictEqual({'a' : 1, 'b' : 2}, {'a' : 1, 'c' : 2})    \n",
    "        \n",
    "       \n",
    "if __name__ == '__main__':\n",
    "    unittest.main(argv=['first-arg-is-ignored'], exit=False) "
   ]
  },
  {
   "cell_type": "markdown",
   "metadata": {},
   "source": [
    "## 3.5. Pomijanie testów"
   ]
  },
  {
   "cell_type": "markdown",
   "metadata": {},
   "source": [
    "Pomijanie warunkowe umożliwia pominięcie pewnych testów w zależności od spełnienia jakiegoś warunku.\n",
    "\n",
    "Kilka metod:\n",
    "    \n",
    "- Metoda `skip`:\n",
    "\n",
    "`unittest.skip(reason)\n",
    "    pomija oznaczony test`\n",
    "\n",
    "- Metoda `skipIf`:\n",
    "\n",
    "`unittest.skipIf(condition, reason)\n",
    "    pomija oznaczony test jeżeli warunek jest prawdziwy`\n",
    "\n",
    "- Metoda `skipUnless`:\n",
    "\n",
    "`unittest.skipUnless(condition, reason)\n",
    "    pomija oznaczony test, chyba że warunek jest prawdziwy`\n",
    "\n",
    "- Metoda `expectedFailure`:\n",
    "\n",
    "`unittest.expectedFailure()\n",
    "    oznacza test jako oczekiwany błąd, jeżeli test będzie niepowodzeniem nie zostanie policzony jako błąd\n",
    "    jeżeli błąd wystąpi, jest ok, a jeżeli nie to jest coś źle`"
   ]
  },
  {
   "cell_type": "code",
   "execution_count": 25,
   "metadata": {},
   "outputs": [
    {
     "name": "stderr",
     "output_type": "stream",
     "text": [
      "FFFFF..ssu.\n",
      "======================================================================\n",
      "FAIL: test_dict (__main__.DataStructureTest)\n",
      "----------------------------------------------------------------------\n",
      "Traceback (most recent call last):\n",
      "  File \"/var/folders/vp/nz2438p55y1887kk536xrnjc0000gn/T/ipykernel_58679/2543745778.py\", line 11, in test_dict\n",
      "    self.assertDictEqual({'a' : 1, 'b' : 2}, {'a' : 1, 'c' : 2})\n",
      "AssertionError: {'a': 1, 'b': 2} != {'a': 1, 'c': 2}\n",
      "- {'a': 1, 'b': 2}\n",
      "?           ^\n",
      "\n",
      "+ {'a': 1, 'c': 2}\n",
      "?           ^\n",
      "\n",
      "\n",
      "======================================================================\n",
      "FAIL: test_list (__main__.DataStructureTest)\n",
      "----------------------------------------------------------------------\n",
      "Traceback (most recent call last):\n",
      "  File \"/var/folders/vp/nz2438p55y1887kk536xrnjc0000gn/T/ipykernel_58679/2543745778.py\", line 8, in test_list\n",
      "    self.assertListEqual([1, 2, 5], [1, 2, 3])\n",
      "AssertionError: Lists differ: [1, 2, 5] != [1, 2, 3]\n",
      "\n",
      "First differing element 2:\n",
      "5\n",
      "3\n",
      "\n",
      "- [1, 2, 5]\n",
      "?        ^\n",
      "\n",
      "+ [1, 2, 3]\n",
      "?        ^\n",
      "\n",
      "\n",
      "======================================================================\n",
      "FAIL: test_add (__main__.FirstTest)\n",
      "----------------------------------------------------------------------\n",
      "Traceback (most recent call last):\n",
      "  File \"/var/folders/vp/nz2438p55y1887kk536xrnjc0000gn/T/ipykernel_58679/1886143078.py\", line 17, in test_add\n",
      "    self.assertEqual(add(3, 4), 7, msg='Powinno być 7.')\n",
      "AssertionError: 17 != 7 : Powinno być 7.\n",
      "\n",
      "======================================================================\n",
      "FAIL: test_add (__main__.SecondTest)\n",
      "----------------------------------------------------------------------\n",
      "Traceback (most recent call last):\n",
      "  File \"/var/folders/vp/nz2438p55y1887kk536xrnjc0000gn/T/ipykernel_58679/837103982.py\", line 11, in test_add\n",
      "    self.assertEqual(add(3, 4), 7, msg='Powinno być 7.')\n",
      "AssertionError: 17 != 7 : Powinno być 7.\n",
      "\n",
      "======================================================================\n",
      "FAIL: test_add (__main__.SimpleTest)\n",
      "----------------------------------------------------------------------\n",
      "Traceback (most recent call last):\n",
      "  File \"/var/folders/vp/nz2438p55y1887kk536xrnjc0000gn/T/ipykernel_58679/2149286351.py\", line 9, in test_add\n",
      "    self.assertEqual(3+7, 9)\n",
      "AssertionError: 10 != 9\n",
      "\n",
      "----------------------------------------------------------------------\n",
      "Ran 11 tests in 0.008s\n",
      "\n",
      "FAILED (failures=5, skipped=2, unexpected successes=1)\n"
     ]
    }
   ],
   "source": [
    "# Przykład:\n",
    "\n",
    "import unittest\n",
    "\n",
    "class SkipTest(unittest.TestCase):\n",
    "   \n",
    "    x = 6\n",
    "    y = 2\n",
    "    \n",
    "   \n",
    "    @unittest.skip(\"pomin\") \n",
    "    def test_add(self):\n",
    "        wynik = self.x + self.y \n",
    "        self.assertEqual(wynik, 8)\n",
    "\n",
    "\n",
    "    @unittest.skipIf(x < y, \"Pomin\") \n",
    "    def test_sub(self):\n",
    "        wynik = self.x - self.y\n",
    "        self.assertEqual(wynik, 4)  \n",
    "        \n",
    "\n",
    "    @unittest.skipUnless(y == 0, \"Pomin\") \n",
    "    def test_div(self):\n",
    "        wynik = self.x / self.y\n",
    "        self.assertEqual(wynik, 3.0)  \n",
    "        \n",
    "\n",
    "    @unittest.expectedFailure\n",
    "    def test_mul(self):\n",
    "        wynik = self.x * self.y \n",
    "        self.assertEqual(wynik, 12)  \n",
    "        \n",
    "if __name__ == '__main__':\n",
    "    unittest.main(argv=['first-arg-is-ignored'], exit=False) "
   ]
  },
  {
   "cell_type": "markdown",
   "metadata": {
    "slideshow": {
     "slide_type": "slide"
    }
   },
   "source": [
    "# 4.  Testy z pakietem `pytest`"
   ]
  },
  {
   "cell_type": "markdown",
   "metadata": {},
   "source": [
    "`Pytest` jest biblioteką, która rozszerza funkcjonalności `unittest`. Pozwala również na tworzenie testów w nieco prostszej strukturze oraz daje możliwość używania wbudowanego wyrażenia `assert` do sprawdzenia poprawności testów. `pytest` to framework do testowania:\n",
    "    \n",
    "- Ułatwia pisanie i organizację testów\n",
    "- Daje narzędzie do odpalania i wyszukiwania testów\n",
    "- Wyświetla wyniki w ładnej formie\n",
    "\n",
    "http://pythontesting.net/framework/pytest/pytest-introduction/"
   ]
  },
  {
   "cell_type": "markdown",
   "metadata": {},
   "source": [
    "Aby móc korzystać z biblioteki `pytest` musimy ją zainstalować w naszym środowisku. W tym celu należy wywołać w linii poleceń następującą komendę:\n",
    "\n",
    "`pip install -U pytest`\n",
    "\n",
    "Lub z zastosowaniem wirtualnego w środowiska Python:\n",
    "\n",
    "1. Tworzymy nowy virtualenv\n",
    "2. Aktywujemy go\n",
    "3. Instalujemy pakiet: `>>pip install pytest`\n",
    "\n",
    "Przygotowane testy możemy uruchomić komendą:\n",
    "\n",
    "```\n",
    "pytest\n",
    "```\n",
    "\n",
    "Samo wywołanie `pytest` uruchomi wszystkie testy w projekcie. Można też wykonać konkretny plik z testami:\n",
    "\n",
    "```\n",
    "python -m pytest test_pytest.py\n",
    "pytest test_pytest.py\n",
    "```\n",
    "\n",
    "Pytest uruchomi też testy napisane w `unittest`. Wystarczy podać nazwę pliku lub jeśli plik zaczyna się od słowa \"test\" to `pytest` sam znajdzie i uruchomi wszystkie testy. "
   ]
  },
  {
   "cell_type": "markdown",
   "metadata": {},
   "source": [
    "Jedną z największych zalet tej biblioteki jest duża baza rozszerzeń (wtyczek), które możemy zainstalować i które pomogą nam lepiej przetestować nasz kod. Pozwalają one rozszerzać podstawowe funkcjonalności `pytest`’a na przykład o testowanie różnych parametrów kodu. Wtyczki mają zazwyczaj nazwy w postaci `pytest-nazwa` i możemy je zainstalować przy pomocy polecenia `pip install pytest-nazwa`.\n",
    "\n",
    "Pierwszą wtyczką, którą warto zainstalować, jest `pytest-pep8`, po zainstalowaniu uruchamiamy ją odpalając test z flagą `pep8`: `py.test --pep8`.\n",
    "\n",
    "Wtyczka ta pozwala nam przy okazji testowania na wykonanie statycznej analizy kodu, czyli sprawdzenie czy nasz kod jest zgodny z konwencją pep8.\n",
    "\n",
    "Innymi ciekawymi wtyczkami są między innymi `pytest-cov` pozwalająca na sprawdzenie pokrycia kodu testami, oraz `pytest-timeout` która pozwala na określenie czasu w jakim test powinien się wykonać."
   ]
  },
  {
   "cell_type": "code",
   "execution_count": 26,
   "metadata": {},
   "outputs": [],
   "source": [
    "# Plik `test2.py`\n",
    "def add2(x):\n",
    "    return x + 2\n",
    "\n",
    "def test_add2_success():\n",
    "    assert add2(3) == 5\n",
    "\n",
    "def test_add2_fail():\n",
    "    assert add2(3) == 3"
   ]
  },
  {
   "cell_type": "markdown",
   "metadata": {},
   "source": [
    "Plik posiada nazwę zaczynającą się od „test\", co pozwala `pytest`owi rozpoznać, że w tym pliku znajdują się testy. Podobnie jest z nazwami funkcji - `pytest` wywoła funkcje, których nazwy zaczynają się od słowa „test”. Konwencja w projektach jest taka, żeby testy trzymać w osobnych plikach - w katalogu `tests`. Wywołanie `pytest`’a będzie wyglądało wówczas następująco: `pytest tests`"
   ]
  },
  {
   "cell_type": "markdown",
   "metadata": {},
   "source": [
    "## 4.1. Raises"
   ]
  },
  {
   "cell_type": "markdown",
   "metadata": {},
   "source": [
    "Poprawną obsługę błędów możemy uzyskać posługując się menadżerem kontekstu `raises`, który jest dostepny w `pytest`. "
   ]
  },
  {
   "cell_type": "code",
   "execution_count": 27,
   "metadata": {},
   "outputs": [],
   "source": [
    "# Plik `test3.py`\n",
    "\n",
    "import pytest\n",
    "\n",
    "def div_two(x):\n",
    "    return 5 / x\n",
    "\n",
    "def test_div_two_zero():\n",
    "    with pytest.raises(ZeroDivisionError):\n",
    "        div_two(0)"
   ]
  },
  {
   "cell_type": "markdown",
   "metadata": {},
   "source": [
    "## 4.2. Parametryzacja"
   ]
  },
  {
   "cell_type": "markdown",
   "metadata": {},
   "source": [
    "`Pytest` umożliwia wykonywanie jednego testu dla wielu różnych zestawów danych. W tym celu możemy posłużyć się dekoratorem `@pytest.mark.parametrize`."
   ]
  },
  {
   "cell_type": "code",
   "execution_count": 28,
   "metadata": {},
   "outputs": [],
   "source": [
    "# Plik `test4.py`\n",
    "\n",
    "import pytest\n",
    "\n",
    "data = [('2', '2', 4), ('12','3',15), ('-1', '6', 1)]\n",
    "\n",
    "@pytest.mark.parametrize(\"x, y, expected\", data)\n",
    "def test_sum_numbers(x, y, expected):\n",
    "    assert int(x) + int(y) == expected"
   ]
  },
  {
   "cell_type": "markdown",
   "metadata": {},
   "source": [
    "# 4.4. Mockowanie"
   ]
  },
  {
   "cell_type": "markdown",
   "metadata": {},
   "source": [
    "Mockowanie polega na nadpisaniu danego obiektu w aplikacji specjalnym obiektem, który będzie imitował działanie oryginału. Takie podejście przydaje się w przypadku, gdy nie chcemy w teście wykonywać pewnych akcji, które mają miejsce w naszym programie. Z modułu `mock` możemy skorzystać importując go z biblioteki `unittest.mock`."
   ]
  },
  {
   "cell_type": "code",
   "execution_count": 29,
   "metadata": {},
   "outputs": [],
   "source": [
    "# Plik `test5.py`\n",
    "\n",
    "import os\n",
    "from unittest.mock import patch\n",
    "\n",
    "def direction(name):\n",
    "    return name in os.listdir()\n",
    "\n",
    "@patch('os.listdir')\n",
    "def test_direction(listdir_mock):\n",
    "    listdir_mock.return_value = ['tmp', 'tmp1']\n",
    "    assert direction('tmp')\n",
    "    listdir_mock.assert_called_once()"
   ]
  },
  {
   "cell_type": "code",
   "execution_count": null,
   "metadata": {},
   "outputs": [],
   "source": []
  }
 ],
 "metadata": {
  "celltoolbar": "Edit Metadata",
  "kernelspec": {
   "display_name": "Python 3 (ipykernel)",
   "language": "python",
   "name": "python3"
  },
  "language_info": {
   "codemirror_mode": {
    "name": "ipython",
    "version": 3
   },
   "file_extension": ".py",
   "mimetype": "text/x-python",
   "name": "python",
   "nbconvert_exporter": "python",
   "pygments_lexer": "ipython3",
   "version": "3.9.7"
  },
  "toc-autonumbering": false,
  "toc-showcode": false,
  "toc-showmarkdowntxt": true,
  "toc-showtags": true
 },
 "nbformat": 4,
 "nbformat_minor": 4
}
